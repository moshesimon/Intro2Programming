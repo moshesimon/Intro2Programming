{
 "cells": [
  {
   "attachments": {},
   "cell_type": "markdown",
   "metadata": {},
   "source": [
    "# Lesson 2.1: Functions\n",
    "\n",
    "Functions in Python are defined using the `def` keyword, followed by a function name, a pair of parentheses which may enclose some names of variable inputs, and by a final colon. The function body is indented, just like the body of an `if` statement or a loop.\n",
    "\n",
    "\n"
   ]
  },
  {
   "cell_type": "code",
   "execution_count": null,
   "metadata": {},
   "outputs": [],
   "source": [
    "def greet():\n",
    "    print(\"Hello, world!\")\n"
   ]
  },
  {
   "attachments": {},
   "cell_type": "markdown",
   "metadata": {},
   "source": [
    "You can call the function using its name followed by parentheses.\n"
   ]
  },
  {
   "cell_type": "code",
   "execution_count": null,
   "metadata": {},
   "outputs": [],
   "source": [
    "greet()"
   ]
  },
  {
   "attachments": {},
   "cell_type": "markdown",
   "metadata": {},
   "source": [
    "## Function Parameters and Arguments\n",
    "\n",
    "Functions can take parameters, which are values you can pass into the function so that the function can use them.\n"
   ]
  },
  {
   "cell_type": "code",
   "execution_count": null,
   "metadata": {},
   "outputs": [],
   "source": [
    "def greet(name):\n",
    "    print(f\"Hello, {name}!\")\n"
   ]
  },
  {
   "attachments": {},
   "cell_type": "markdown",
   "metadata": {},
   "source": [
    "When you call a function with parameters, the values you pass in are called arguments.\n"
   ]
  },
  {
   "cell_type": "code",
   "execution_count": null,
   "metadata": {},
   "outputs": [],
   "source": [
    "greet(\"Jeff\")\n"
   ]
  },
  {
   "attachments": {},
   "cell_type": "markdown",
   "metadata": {},
   "source": [
    "## Return Values\n",
    "\n",
    "Functions can also return values using the `return` keyword. This means that the function will give back a value that you can use in other parts of your code.\n"
   ]
  },
  {
   "cell_type": "code",
   "execution_count": null,
   "metadata": {},
   "outputs": [],
   "source": [
    "def square(n):\n",
    "    return n ** 2\n"
   ]
  },
  {
   "attachments": {},
   "cell_type": "markdown",
   "metadata": {},
   "source": [
    "Here, the `square` function calculates the square of a number and then returns it.\n"
   ]
  },
  {
   "cell_type": "code",
   "execution_count": null,
   "metadata": {},
   "outputs": [],
   "source": [
    "print(square(5))"
   ]
  },
  {
   "attachments": {},
   "cell_type": "markdown",
   "metadata": {},
   "source": [
    "# Lesson 2.2: Strings\n",
    "\n",
    "A string in Python is a sequence of characters. Strings in Python can be created with single quotes, double quotes, or triple quotes.\n"
   ]
  },
  {
   "cell_type": "code",
   "execution_count": null,
   "metadata": {},
   "outputs": [],
   "source": [
    "string1 = 'Hello, world!'\n",
    "string2 = \"Hello, world!\""
   ]
  },
  {
   "attachments": {},
   "cell_type": "markdown",
   "metadata": {},
   "source": [
    "## String Manipulation\n",
    "\n",
    "You can concatenate, or add together, strings using the `+` operator or multiply them using the * operator. "
   ]
  },
  {
   "cell_type": "code",
   "execution_count": null,
   "metadata": {},
   "outputs": [],
   "source": [
    "string1 = 'Hello,'\n",
    "string2 = ' world!'\n",
    "string3 = string1 + string2\n",
    "print(string3)\n",
    "\n",
    "string4 = 'Hello! ' * 3\n",
    "print(string4)"
   ]
  },
  {
   "attachments": {},
   "cell_type": "markdown",
   "metadata": {},
   "source": [
    "You can slice strings using indices.\n",
    "Slicing in Python works by specifying two indices, the start index, and the end index, which is the first index not to be included. You specify the indices separated by a colon inside square brackets:"
   ]
  },
  {
   "cell_type": "code",
   "execution_count": null,
   "metadata": {},
   "outputs": [],
   "source": [
    "text = \"Hello, world!\"\n",
    "print(text[0:5])  # Output: \"Hello\"\n"
   ]
  },
  {
   "attachments": {},
   "cell_type": "markdown",
   "metadata": {},
   "source": [
    "In this example, we're slicing the string from the 0th index up to (but not including) the 5th index.\n",
    "\n",
    "You can also omit the start or end index:"
   ]
  },
  {
   "cell_type": "code",
   "execution_count": null,
   "metadata": {},
   "outputs": [],
   "source": [
    "text = \"Hello, world!\"\n",
    "print(text[7:])  # Output: \"world!\"\n"
   ]
  },
  {
   "attachments": {},
   "cell_type": "markdown",
   "metadata": {},
   "source": [
    "In this case, we're slicing the string from the 7th index to the end of the string.\n",
    "\n",
    "Slicing can also include a step parameter:"
   ]
  },
  {
   "cell_type": "code",
   "execution_count": null,
   "metadata": {},
   "outputs": [],
   "source": [
    "text = \"Hello, world!\"\n",
    "print(text[0:5:2])  # Output: \"Hlo\"\n"
   ]
  },
  {
   "attachments": {},
   "cell_type": "markdown",
   "metadata": {},
   "source": [
    "Here, we're slicing the string from the 0th index to the 5th index, but we're stepping over every second character.\n",
    "\n",
    "Negative indices count from the end of the string:"
   ]
  },
  {
   "cell_type": "code",
   "execution_count": null,
   "metadata": {},
   "outputs": [],
   "source": [
    "text = \"Hello, world!\"\n",
    "print(text[-1])  # Output: \"!\"\n"
   ]
  },
  {
   "attachments": {},
   "cell_type": "markdown",
   "metadata": {},
   "source": [
    "In this example, we're accessing the last character of the string.\n",
    "\n",
    "And this also works with slicing:"
   ]
  },
  {
   "cell_type": "code",
   "execution_count": null,
   "metadata": {},
   "outputs": [],
   "source": [
    "text = \"Hello, world!\"\n",
    "print(text[-6:-1])  # Output: \"world\""
   ]
  },
  {
   "attachments": {},
   "cell_type": "markdown",
   "metadata": {},
   "source": [
    "In this case, we're slicing the string from the 6th index from the end up to (but not including) the last index."
   ]
  },
  {
   "attachments": {},
   "cell_type": "markdown",
   "metadata": {},
   "source": [
    "## String Methods\n",
    "\n",
    "Python strings have many built-in methods or functions that allow for powerful manipulation. For example, the `upper` method returns the string in uppercase, and the `lower` method returns it in lowercase.\n"
   ]
  },
  {
   "cell_type": "code",
   "execution_count": null,
   "metadata": {},
   "outputs": [],
   "source": [
    "string = 'Hello, world!'\n",
    "print(string.upper())\n",
    "print(string.lower())"
   ]
  },
  {
   "attachments": {},
   "cell_type": "markdown",
   "metadata": {},
   "source": [
    "| Method        | Description                                                                  |\n",
    "|---------------|------------------------------------------------------------------------------|\n",
    "| capitalize()  | Converts the first character to upper case                                   |\n",
    "| casefold()    | Converts string into lower case                                              |\n",
    "| center()      | Returns a centered string                                                     |\n",
    "| count()       | Returns the number of times a specified value occurs in a string             |\n",
    "| encode()      | Returns an encoded version of the string                                     |\n",
    "| endswith()    | Returns true if the string ends with the specified value                     |\n",
    "| expandtabs()  | Sets the tab size of the string                                              |\n",
    "| find()        | Searches the string for a specified value and returns the position of where it was found |\n",
    "| format()      | Formats specified values in a string                                         |\n",
    "| format_map()  | Formats specified values in a string                                         |\n",
    "| index()       | Searches the string for a specified value and returns the position of where it was found |\n",
    "| isalnum()     | Returns True if all characters in the string are alphanumeric                |\n",
    "| isalpha()     | Returns True if all characters in the string are in the alphabet             |\n",
    "| isdecimal()   | Returns True if all characters in the string are decimals                    |\n",
    "| isdigit()     | Returns True if all characters in the string are digits                      |\n",
    "| isidentifier()| Returns True if the string is an identifier                                  |\n",
    "| islower()     | Returns True if all characters in the string are lower case                  |\n",
    "| isnumeric()   | Returns True if all characters in the string are numeric                     |\n",
    "| isprintable() | Returns True if all characters in the string are printable                   |\n",
    "| isspace()     | Returns True if all characters in the string are whitespaces                 |\n",
    "| istitle()     | Returns True if the string follows the rules of a title                      |\n",
    "| isupper()     | Returns True if all characters in the string are upper case                  |\n",
    "| join()        | Joins the elements of an iterable to the end of the string                   |\n",
    "| ljust()       | Returns a left justified version of the string                               |\n",
    "| lower()       | Converts a string into lower case                                            |\n",
    "| lstrip()      | Returns a left trim version of the string                                    |\n",
    "| maketrans()   | Returns a translation table to be used in translations                       |\n",
    "| partition()   | Returns a tuple where the string is parted into three parts                  |\n",
    "| replace()     | Returns a string where a specified value is replaced with a specified value  |\n",
    "| rfind()       | Searches the string for a specified value and returns the last position of where it was found |\n",
    "| rindex()      | Searches the string for a specified value and returns the last position of where it was found |\n",
    "| rjust()       | Returns a right justified version of the string                              |\n",
    "| rpartition()  | Returns a tuple where the string is parted into three parts                  |\n",
    "| rsplit()      | Splits the string at the specified separator, and returns a list             |\n",
    "| rstrip()      | Returns a right trim version of the string                                   |\n",
    "| split()       | Splits the string at the specified separator, and returns a list             |\n",
    "| splitlines()  | Splits the string at line breaks and returns a list                          |\n",
    "| startswith()  | Returns true if the string starts with the specified value                   |\n",
    "| strip()       | Returns a trimmed version of the string                                      |\n",
    "| swapcase()    | Swaps cases, lower case becomes upper case and vice versa                    |\n",
    "| title()       | Converts the first character of each word to upper case                      |\n",
    "| translate()   | Returns a translated string                                                  |\n",
    "| upper()       | Converts a string into upper case                                            |\n",
    "| zfill()       | Fills the string with a specified number of 0 values at the beginning        |\n"
   ]
  },
  {
   "attachments": {},
   "cell_type": "markdown",
   "metadata": {},
   "source": [
    "## Escape Sequences and Formatted Strings\n",
    "\n",
    "Escape sequences allow you to include special characters in strings. For instance, `\\n` is a newline, and `\\t` is a tab.\n"
   ]
  },
  {
   "cell_type": "code",
   "execution_count": null,
   "metadata": {},
   "outputs": [],
   "source": [
    "print(\"Hello,\\nworld!\")\n"
   ]
  },
  {
   "attachments": {},
   "cell_type": "markdown",
   "metadata": {},
   "source": [
    "Formatted strings, or f-strings, let you insert values into strings."
   ]
  },
  {
   "cell_type": "code",
   "execution_count": null,
   "metadata": {},
   "outputs": [],
   "source": [
    "name = \"Alice\"\n",
    "print(f\"Hello, {name}!\")"
   ]
  },
  {
   "attachments": {},
   "cell_type": "markdown",
   "metadata": {},
   "source": [
    "# Lesson 2.3: Lists\n",
    "\n",
    "A list in Python is an ordered collection of items. Lists are mutable, meaning they can be changed.\n"
   ]
  },
  {
   "cell_type": "code",
   "execution_count": null,
   "metadata": {},
   "outputs": [],
   "source": [
    "fruits = ['apple', 'banana', 'cherry']\n",
    "print(fruits)"
   ]
  },
  {
   "attachments": {},
   "cell_type": "markdown",
   "metadata": {},
   "source": [
    "## Accessing Lists\n",
    "You can access elements of a list by using the element's index:"
   ]
  },
  {
   "cell_type": "code",
   "execution_count": null,
   "metadata": {},
   "outputs": [],
   "source": [
    "fruits = ['apple', 'banana', 'cherry']\n",
    "print(fruits[0])\n"
   ]
  },
  {
   "attachments": {},
   "cell_type": "markdown",
   "metadata": {},
   "source": [
    "## List Methods\n",
    "\n",
    "Python lists have many built-in methods. For instance, `append` adds an item to the end of a list, and `pop` removes an item.\n",
    "\n",
    "| Method   | Description                                                                    |\n",
    "|----------|--------------------------------------------------------------------------------|\n",
    "| append() | Adds an element at the end of the list                                         |\n",
    "| clear()  | Removes all the elements from the list                                         |\n",
    "| copy()   | Returns a copy of the list                                                     |\n",
    "| count()  | Returns the number of elements with the specified value                        |\n",
    "| extend() | Add the elements of a list (or any iterable), to the end of the current list   |\n",
    "| index()  | Returns the index of the first element with the specified value                |\n",
    "| insert() | Adds an element at the specified position                                      |\n",
    "| pop()    | Removes the element at the specified position                                  |\n",
    "| remove() | Removes the item with the specified value                                      |\n",
    "| reverse()| Reverses the order of the list                                                 |\n",
    "| sort()   | Sorts the list                                                                 |\n"
   ]
  },
  {
   "cell_type": "code",
   "execution_count": null,
   "metadata": {},
   "outputs": [],
   "source": [
    "fruits = ['apple', 'banana', 'cherry']\n",
    "fruits.append('date')\n",
    "print(fruits)\n"
   ]
  }
 ],
 "metadata": {
  "kernelspec": {
   "display_name": "Python 3",
   "language": "python",
   "name": "python3"
  },
  "language_info": {
   "name": "python",
   "version": "3.10.11"
  },
  "orig_nbformat": 4
 },
 "nbformat": 4,
 "nbformat_minor": 2
}
