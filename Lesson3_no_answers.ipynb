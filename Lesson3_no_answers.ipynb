{
  "cells": [
    {
      "cell_type": "markdown",
      "metadata": {
        "id": "LdE6cOT58Tcb"
      },
      "source": [
        "# RECAP!"
      ]
    },
    {
      "cell_type": "markdown",
      "metadata": {
        "id": "-bqh4hG98Tdd"
      },
      "source": [
        "## Variables and arithmetic operations\n",
        "\n",
        "Example 1: Given two integer numbers return their product"
      ]
    },
    {
      "cell_type": "code",
      "execution_count": null,
      "metadata": {
        "id": "xMUIuNDh8Tdo"
      },
      "outputs": [],
      "source": [
        "number1 = 10\n",
        "number2 = 20\n"
      ]
    },
    {
      "cell_type": "markdown",
      "metadata": {
        "id": "XRYm2Gm88TeY"
      },
      "source": [
        "Example 2: Save the numbers 30 and 50 to two different variables and then print their sum"
      ]
    },
    {
      "cell_type": "code",
      "execution_count": null,
      "metadata": {
        "id": "6zZ9w8Z-8Tea"
      },
      "outputs": [],
      "source": []
    },
    {
      "cell_type": "markdown",
      "metadata": {
        "id": "daOJaQ7l8Ted"
      },
      "source": [
        "Example 3: Write a Python program that prompts the user for 2 numbers and then prints their sum"
      ]
    },
    {
      "cell_type": "code",
      "execution_count": null,
      "metadata": {
        "id": "DV76cgHP8Tep"
      },
      "outputs": [],
      "source": []
    },
    {
      "cell_type": "markdown",
      "metadata": {
        "id": "VMxinrsO8Teu"
      },
      "source": [
        "## Conditional statements (if, elif, else)"
      ]
    },
    {
      "cell_type": "markdown",
      "metadata": {
        "id": "MJz6D5Cl8Te_"
      },
      "source": [
        "Example 1: Write a Python program that prompts the user for their age and determine if they're eligible to vote or not. In most jurisdictions, a person is eligible to vote if they're 18 years old or older."
      ]
    },
    {
      "cell_type": "code",
      "execution_count": null,
      "metadata": {
        "id": "AqjoWqYV8TfB"
      },
      "outputs": [],
      "source": []
    },
    {
      "cell_type": "markdown",
      "metadata": {
        "id": "oIAaflDm8TfC"
      },
      "source": [
        "Example 2: Write a Python program that checks whether a variable contains an integer, a float or a string using conditional statements."
      ]
    },
    {
      "cell_type": "code",
      "execution_count": null,
      "metadata": {
        "id": "gOtmsawK8TfD"
      },
      "outputs": [],
      "source": []
    },
    {
      "cell_type": "markdown",
      "metadata": {
        "id": "lZpfVK0x8TfD"
      },
      "source": [
        "Example 3: Can you create a Python program which sorts three given numbers from highest to lowest using only if, elif, and else statements, but not using any built-in Python functions like sort() or sorted()?"
      ]
    },
    {
      "cell_type": "code",
      "execution_count": null,
      "metadata": {
        "id": "ngcU6V-O8TfF"
      },
      "outputs": [],
      "source": []
    },
    {
      "cell_type": "markdown",
      "metadata": {
        "id": "Q24f8HsH8TfG"
      },
      "source": [
        "Example 4: Write a Python program that takes a score (between 0 and 100) as input and outputs the corresponding grade (A for 90-100, B for 80-89, C for 70-79, D for 60-69, and F for below 60)."
      ]
    },
    {
      "cell_type": "code",
      "execution_count": null,
      "metadata": {
        "id": "qTR-UW_i8TfP"
      },
      "outputs": [],
      "source": []
    },
    {
      "cell_type": "markdown",
      "metadata": {
        "id": "uhh2KUwH8TfR"
      },
      "source": [
        "Example 5: Write a Python program that takes a number (1-7) as input and outputs the corresponding day of the week. For example, an input of 1 returns \"Monday,\" an input of 2 returns \"Tuesday,\" and so on. Use conditional statements to implement this. If the input is not a number between 1 and 7, your program should print an appropriate error message."
      ]
    },
    {
      "cell_type": "code",
      "execution_count": null,
      "metadata": {
        "id": "b9aKxk9i8TfR"
      },
      "outputs": [],
      "source": []
    },
    {
      "cell_type": "markdown",
      "metadata": {
        "id": "msryUZlt8TfS"
      },
      "source": [
        "Example 6: Write a Python program that uses nested conditional statements to determine if a year is a leap year. A leap year is exactly divisible by 4 except for century years. The century year is a leap year only if it is perfectly divisible by 400. For example, 1700, 1800, and 1900 were not leap years, but 1600 and 2000 were."
      ]
    },
    {
      "cell_type": "code",
      "execution_count": null,
      "metadata": {
        "id": "Wd4MT24u8TfT"
      },
      "outputs": [],
      "source": []
    },
    {
      "cell_type": "markdown",
      "metadata": {
        "id": "cClZ_ugQ8TfV"
      },
      "source": [
        "Example 7: Write a Python program that takes two integers as input from the user. The program should determine and print whether the first number is a multiple of the second."
      ]
    },
    {
      "cell_type": "code",
      "execution_count": null,
      "metadata": {
        "id": "94LvXjw28TfX"
      },
      "outputs": [],
      "source": []
    },
    {
      "cell_type": "markdown",
      "metadata": {
        "id": "8aupJner8Tfi"
      },
      "source": [
        "# Loops For, While\n",
        "\n",
        "Example 1: Write a Python program using a \"for\" loop that prints all the numbers from 1 to 10."
      ]
    },
    {
      "cell_type": "code",
      "execution_count": null,
      "metadata": {
        "id": "RVBP_wTs8Tfm"
      },
      "outputs": [],
      "source": []
    },
    {
      "cell_type": "markdown",
      "metadata": {
        "id": "Irr51Z4T8Tfn"
      },
      "source": [
        "Example 2: Write a Python program using a \"while\" loop that asks the user for input and continues to do so until the user types 'quit'."
      ]
    },
    {
      "cell_type": "code",
      "execution_count": null,
      "metadata": {
        "id": "0Vjahc2t8Tfo"
      },
      "outputs": [],
      "source": []
    },
    {
      "cell_type": "markdown",
      "metadata": {
        "id": "DXfEteSX8Tfs"
      },
      "source": [
        "Example 3: Write a Python program using a \"for\" loop that prints the even numbers from 1 to 20."
      ]
    },
    {
      "cell_type": "code",
      "execution_count": null,
      "metadata": {
        "id": "8-N3Ffah8Tft"
      },
      "outputs": [],
      "source": []
    },
    {
      "cell_type": "markdown",
      "metadata": {
        "id": "zavFPGML8Tfv"
      },
      "source": [
        "Example 4: Write a Python program using a \"while\" loop that counts down from 10 to 1, then prints \"Blastoff!\"."
      ]
    },
    {
      "cell_type": "code",
      "execution_count": null,
      "metadata": {
        "id": "bBX6cRzO8Tf2"
      },
      "outputs": [],
      "source": []
    },
    {
      "cell_type": "markdown",
      "metadata": {
        "id": "6NxCgne88Tf7"
      },
      "source": [
        "Example 5: Print a row and a column of stars"
      ]
    },
    {
      "cell_type": "code",
      "execution_count": null,
      "metadata": {
        "id": "fLZjpfyl8Tf-"
      },
      "outputs": [],
      "source": []
    },
    {
      "cell_type": "markdown",
      "metadata": {
        "id": "hS8tlG6x8Tf_"
      },
      "source": [
        "Example 6: Print a square of stars"
      ]
    },
    {
      "cell_type": "code",
      "execution_count": null,
      "metadata": {
        "id": "-bsD4UsF8TgA"
      },
      "outputs": [],
      "source": []
    },
    {
      "cell_type": "markdown",
      "metadata": {
        "id": "KzM0VuP_8TgB"
      },
      "source": [
        "Example 7: Print a right-angled triangle of stars"
      ]
    },
    {
      "cell_type": "code",
      "execution_count": null,
      "metadata": {
        "id": "fP0n-1PM8TgC"
      },
      "outputs": [],
      "source": []
    },
    {
      "cell_type": "markdown",
      "metadata": {
        "id": "LTRUF9fJ8TgD"
      },
      "source": [
        "Example 8: Print a centered triangle of stars"
      ]
    },
    {
      "cell_type": "code",
      "execution_count": null,
      "metadata": {
        "id": "0hd0kXk08TgD"
      },
      "outputs": [],
      "source": []
    },
    {
      "cell_type": "markdown",
      "metadata": {
        "id": "EmmKeUnB8TgO"
      },
      "source": [
        "Example 9: Print a Diamond"
      ]
    },
    {
      "cell_type": "code",
      "execution_count": null,
      "metadata": {
        "id": "Tw0H75VY8Th6"
      },
      "outputs": [],
      "source": []
    },
    {
      "cell_type": "markdown",
      "metadata": {
        "id": "DA8pFVZ08Th-"
      },
      "source": [
        "Example 10: Write a Python program using a \"while\" loop that repeatedly flips a simulated coin until it lands on heads three times in a row."
      ]
    },
    {
      "cell_type": "code",
      "execution_count": null,
      "metadata": {
        "id": "gyeE3nSk8Th_"
      },
      "outputs": [],
      "source": []
    },
    {
      "cell_type": "markdown",
      "metadata": {
        "id": "yV6RRoza8TiC"
      },
      "source": [
        "Example 11: Write a Python program using a \"while\" loop that will ask the user for a number until they guess the correct number (which you have predefined)."
      ]
    },
    {
      "cell_type": "code",
      "execution_count": null,
      "metadata": {
        "id": "06MQDgB28TiL"
      },
      "outputs": [],
      "source": []
    },
    {
      "cell_type": "markdown",
      "metadata": {
        "id": "VJ41UYAR8TiO"
      },
      "source": [
        "# Functions\n",
        "\n",
        "Example 1: Write a function named `max_of_three` to find the maximum of three numbers."
      ]
    },
    {
      "cell_type": "code",
      "execution_count": null,
      "metadata": {
        "id": "qihFoKyM8TiQ"
      },
      "outputs": [],
      "source": []
    },
    {
      "cell_type": "markdown",
      "metadata": {
        "id": "vhzTXk808TiS"
      },
      "source": [
        "Example 2: Write a function named add_numbers that takes two numbers as arguments and returns their sum."
      ]
    },
    {
      "cell_type": "code",
      "execution_count": null,
      "metadata": {},
      "outputs": [],
      "source": []
    },
    {
      "cell_type": "markdown",
      "metadata": {
        "id": "Psx7RL0D8TiV"
      },
      "source": [
        "Example 3: Write a function called calculate_area that takes the base and height of a triangle as parameters and returns its area."
      ]
    },
    {
      "cell_type": "code",
      "execution_count": null,
      "metadata": {},
      "outputs": [],
      "source": []
    },
    {
      "cell_type": "markdown",
      "metadata": {
        "id": "f5Uw0ahv8Tid"
      },
      "source": [
        "Example 4: Define a function convert_to_celsius that takes a temperature in Fahrenheit as an input and returns the temperature converted to Celsius."
      ]
    },
    {
      "cell_type": "code",
      "execution_count": null,
      "metadata": {},
      "outputs": [],
      "source": []
    },
    {
      "cell_type": "markdown",
      "metadata": {
        "id": "-gXxqJ_R8Tik"
      },
      "source": [
        "Example 5: Write a function called reverse_string that takes a string as a parameter and returns the string in reversed order."
      ]
    },
    {
      "cell_type": "code",
      "execution_count": null,
      "metadata": {},
      "outputs": [],
      "source": []
    },
    {
      "cell_type": "markdown",
      "metadata": {
        "id": "ajFlgVb88Tin"
      },
      "source": [
        "Example 6: Define a function fibonacci that takes an integer n and returns the nth Fibonacci number."
      ]
    },
    {
      "cell_type": "code",
      "execution_count": null,
      "metadata": {},
      "outputs": [],
      "source": []
    },
    {
      "cell_type": "markdown",
      "metadata": {
        "id": "J1oOQbAi8Tio"
      },
      "source": [
        "Example 7: Write a function is_prime that takes a number as input and returns True if the number is a prime number and False otherwise."
      ]
    },
    {
      "cell_type": "code",
      "execution_count": null,
      "metadata": {},
      "outputs": [],
      "source": []
    },
    {
      "cell_type": "markdown",
      "metadata": {
        "id": "oc_6J_dn8Tip"
      },
      "source": [
        "Example 8: Create a function greatest_common_divisor that takes two numbers as input and returns their greatest common divisor."
      ]
    },
    {
      "cell_type": "code",
      "execution_count": null,
      "metadata": {},
      "outputs": [],
      "source": []
    },
    {
      "cell_type": "markdown",
      "metadata": {
        "id": "q3xEqNWq8Tis"
      },
      "source": [
        "Example 9: Write a function convert_to_seconds that takes three parameters: hours, minutes, and seconds, and returns the total amount of seconds."
      ]
    },
    {
      "cell_type": "code",
      "execution_count": null,
      "metadata": {},
      "outputs": [],
      "source": []
    },
    {
      "cell_type": "markdown",
      "metadata": {
        "id": "7aE7KFuA8Tit"
      },
      "source": [
        "Example 10:Write a function is_divisible that takes two parameters, num1 and num2, and returns True if num1 is divisible by num2 and False otherwise."
      ]
    },
    {
      "cell_type": "code",
      "execution_count": null,
      "metadata": {},
      "outputs": [],
      "source": []
    },
    {
      "cell_type": "markdown",
      "metadata": {
        "id": "LCaUpQ_L8Tiw"
      },
      "source": [
        "# Strings and lists"
      ]
    },
    {
      "cell_type": "markdown",
      "metadata": {
        "id": "0iFsn7ka8Ti3"
      },
      "source": [
        "Exercise 1: Write a Python program to take a string input from the user and print it in lower case."
      ]
    },
    {
      "cell_type": "code",
      "execution_count": null,
      "metadata": {
        "id": "SzCKpj6S8Ti4"
      },
      "outputs": [],
      "source": []
    },
    {
      "cell_type": "markdown",
      "metadata": {
        "id": "H83yTqQQ8Ti6"
      },
      "source": [
        "Exercise 2: Write a Python function called remove_whitespace that takes a string and returns the same string with all white spaces removed."
      ]
    },
    {
      "cell_type": "code",
      "execution_count": null,
      "metadata": {
        "id": "hfkQaAQL8Ti7"
      },
      "outputs": [],
      "source": []
    },
    {
      "cell_type": "markdown",
      "metadata": {
        "id": "QeqxZaxY8Ti8"
      },
      "source": [
        "Exercise 3: Write a Python function named count_occurrences that counts the number of times a specific character occurs in a string. The function should take a string and a character as input."
      ]
    },
    {
      "cell_type": "code",
      "execution_count": null,
      "metadata": {
        "id": "b_Y3u1cr8Ti8"
      },
      "outputs": [],
      "source": []
    },
    {
      "cell_type": "markdown",
      "metadata": {
        "id": "jAT5G-tZ8Ti-"
      },
      "source": [
        "Exercise 4: Write a Python function called add_to_list that takes a list and an element as parameters. The function should add the element to the end of the list and then return the modified list."
      ]
    },
    {
      "cell_type": "code",
      "execution_count": null,
      "metadata": {
        "id": "MrOS3sce8Ti_"
      },
      "outputs": [],
      "source": []
    },
    {
      "cell_type": "markdown",
      "metadata": {
        "id": "WoYpnIRq8TjA"
      },
      "source": [
        "Exercise 5: Write a Python program that returns the smallest number from a list of integers."
      ]
    },
    {
      "cell_type": "code",
      "execution_count": null,
      "metadata": {
        "id": "pLujvrb68TjB"
      },
      "outputs": [],
      "source": []
    },
    {
      "cell_type": "markdown",
      "metadata": {
        "id": "P8uBWgYD8TjP"
      },
      "source": [
        "Exercise 6: Write a Python function called list_reverse that takes a list as parameter and returns the list in reverse order."
      ]
    },
    {
      "cell_type": "code",
      "execution_count": null,
      "metadata": {
        "id": "OFSj0J3O8TjQ"
      },
      "outputs": [],
      "source": []
    },
    {
      "cell_type": "markdown",
      "metadata": {
        "id": "M5p_VMEP8TjZ"
      },
      "source": [
        "Exercise 7: Write a Python program that takes a string and calculates the number of digits and letters present in the string. Use Python's built-in isdigit and isalpha methods."
      ]
    },
    {
      "cell_type": "code",
      "execution_count": null,
      "metadata": {
        "id": "iRR5Tguj8Tjt"
      },
      "outputs": [],
      "source": []
    },
    {
      "cell_type": "markdown",
      "metadata": {
        "id": "1MMAWO_T8Tjz"
      },
      "source": [
        "Exercise 8: Write a function called multiply_list that takes a list of numbers as an argument and returns the product of all the numbers in the list."
      ]
    },
    {
      "cell_type": "code",
      "execution_count": null,
      "metadata": {
        "id": "o2KDMs1S8TkB"
      },
      "outputs": [],
      "source": []
    },
    {
      "cell_type": "markdown",
      "metadata": {
        "id": "bxonnxRM8TkO"
      },
      "source": [
        "Exercise 9: Define a function find_longest_word that takes a list of words and returns the longest one. If there are multiple words of the same maximum length, return the first one encountered."
      ]
    },
    {
      "cell_type": "code",
      "execution_count": null,
      "metadata": {
        "id": "eUEzTdci8TkW"
      },
      "outputs": [],
      "source": []
    },
    {
      "cell_type": "markdown",
      "metadata": {
        "id": "mXDuvZxK8TkX"
      },
      "source": [
        "Exercise 10: Write a function find_unique that takes a list as a parameter and returns a new list with the unique elements of the first list. Do not use Python's built-in set type or the unique function in numpy."
      ]
    },
    {
      "cell_type": "code",
      "execution_count": null,
      "metadata": {
        "id": "PwJxfINK8Tkc"
      },
      "outputs": [],
      "source": []
    },
    {
      "cell_type": "markdown",
      "metadata": {
        "id": "w6a9LbhX8Tkp"
      },
      "source": [
        "Exercise 11: Write a function check_palindrome that checks whether a given word or sentence is a palindrome (it reads the same backwards as forwards). Ignore capitalization, spacing, and punctuation in your check."
      ]
    },
    {
      "cell_type": "code",
      "execution_count": null,
      "metadata": {
        "id": "AcQFIUCq8Tku"
      },
      "outputs": [],
      "source": []
    },
    {
      "cell_type": "markdown",
      "metadata": {
        "id": "jxR3G5Bl8Tk3"
      },
      "source": [
        "Exercise 12: Write a Python program that takes a list of numbers as input and returns a new list containing only the even numbers from the given list."
      ]
    },
    {
      "cell_type": "code",
      "execution_count": null,
      "metadata": {
        "id": "scfW6fXm8Tk7"
      },
      "outputs": [],
      "source": []
    }
  ],
  "metadata": {
    "colab": {
      "provenance": []
    },
    "kernelspec": {
      "display_name": "Python 3",
      "language": "python",
      "name": "python3"
    },
    "language_info": {
      "name": "python",
      "version": "3.10.11"
    },
    "orig_nbformat": 4
  },
  "nbformat": 4,
  "nbformat_minor": 0
}
