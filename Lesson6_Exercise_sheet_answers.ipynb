{
 "cells": [
  {
   "cell_type": "markdown",
   "metadata": {},
   "source": [
    "## Lists\n",
    "Create a list of numbers and print the sum of all the elements."
   ]
  },
  {
   "cell_type": "code",
   "execution_count": null,
   "metadata": {},
   "outputs": [],
   "source": [
    "numbers = [1, 2, 3, 4, 5]\n",
    "total_sum = sum(numbers)\n",
    "print(total_sum)  # Output: 15\n"
   ]
  },
  {
   "cell_type": "markdown",
   "metadata": {},
   "source": [
    "Given a list, remove all duplicate elements and print the updated list."
   ]
  },
  {
   "cell_type": "code",
   "execution_count": null,
   "metadata": {},
   "outputs": [],
   "source": [
    "numbers = [1, 2, 3, 2, 4, 5, 1, 3]\n",
    "unique_numbers = list(set(numbers))\n",
    "print(unique_numbers)  # Output: [1, 2, 3, 4, 5]\n"
   ]
  },
  {
   "cell_type": "markdown",
   "metadata": {},
   "source": [
    "Write a program to reverse a list without using any built-in functions."
   ]
  },
  {
   "cell_type": "code",
   "execution_count": null,
   "metadata": {},
   "outputs": [],
   "source": [
    "numbers = [1, 2, 3, 4, 5]\n",
    "reversed_numbers = []\n",
    "for i in range(len(numbers)-1, -1, -1):\n",
    "    reversed_numbers.append(numbers[i])\n",
    "print(reversed_numbers)  # Output: [5, 4, 3, 2, 1]\n"
   ]
  },
  {
   "cell_type": "markdown",
   "metadata": {},
   "source": [
    "Given two lists, concatenate them into a single list."
   ]
  },
  {
   "cell_type": "code",
   "execution_count": null,
   "metadata": {},
   "outputs": [],
   "source": [
    "list1 = [1, 2, 3]\n",
    "list2 = [4, 5, 6]\n",
    "concatenated_list = list1 + list2\n",
    "print(concatenated_list)  # Output: [1, 2, 3, 4, 5, 6]\n"
   ]
  },
  {
   "cell_type": "markdown",
   "metadata": {},
   "source": [
    "## Sets\n",
    "Create two sets of integers and find their union."
   ]
  },
  {
   "cell_type": "code",
   "execution_count": null,
   "metadata": {},
   "outputs": [],
   "source": [
    "set1 = {1, 2, 3}\n",
    "set2 = {3, 4, 5}\n",
    "union_set = set1.union(set2)\n",
    "print(union_set)  # Output: {1, 2, 3, 4, 5}\n"
   ]
  },
  {
   "cell_type": "markdown",
   "metadata": {},
   "source": [
    "Given a set, remove all even numbers from it and print the updated set."
   ]
  },
  {
   "cell_type": "code",
   "execution_count": null,
   "metadata": {},
   "outputs": [],
   "source": [
    "numbers = {1, 2, 3, 4, 5}\n",
    "numbers = {num for num in numbers if num % 2 != 0}\n",
    "print(numbers)  # Output: {1, 3, 5}\n"
   ]
  },
  {
   "cell_type": "markdown",
   "metadata": {},
   "source": [
    "Write a program to check if two sets have any common elements."
   ]
  },
  {
   "cell_type": "code",
   "execution_count": null,
   "metadata": {},
   "outputs": [],
   "source": [
    "set1 = {1, 2, 3}\n",
    "set2 = {3, 4, 5}\n",
    "common_elements = set1.intersection(set2)\n",
    "if common_elements:\n",
    "    print(\"Sets have common elements\")\n",
    "else:\n",
    "    print(\"Sets do not have common elements\")\n"
   ]
  },
  {
   "cell_type": "markdown",
   "metadata": {},
   "source": [
    "Create a set of strings and print the length of the longest string in the set."
   ]
  },
  {
   "cell_type": "code",
   "execution_count": null,
   "metadata": {},
   "outputs": [],
   "source": [
    "strings = {\"apple\", \"banana\", \"cherry\"}\n",
    "longest_length = max(len(string) for string in strings)\n",
    "print(longest_length)  # Output: 6\n"
   ]
  },
  {
   "cell_type": "markdown",
   "metadata": {},
   "source": [
    "## Tuples\n",
    "Create a tuple of names and print the number of names in the tuple."
   ]
  },
  {
   "cell_type": "code",
   "execution_count": null,
   "metadata": {},
   "outputs": [],
   "source": [
    "names = (\"Alice\", \"Bob\", \"Charlie\")\n",
    "num_names = len(names)\n",
    "print(num_names)  # Output: 3\n"
   ]
  },
  {
   "cell_type": "markdown",
   "metadata": {},
   "source": [
    "Given a tuple, convert it into a list and print the reversed list."
   ]
  },
  {
   "cell_type": "code",
   "execution_count": null,
   "metadata": {},
   "outputs": [],
   "source": [
    "numbers = (1, 2, 3, 4, 5)\n",
    "reversed_list = list(numbers)[::-1]\n",
    "print(reversed_list)  # Output: [5, 4, 3, 2, 1]\n"
   ]
  },
  {
   "cell_type": "markdown",
   "metadata": {},
   "source": [
    "Write a program to swap the values of two tuples."
   ]
  },
  {
   "cell_type": "code",
   "execution_count": null,
   "metadata": {},
   "outputs": [],
   "source": [
    "tuple1 = (1, 2)\n",
    "tuple2 = (3, 4)\n",
    "tuple1, tuple2 = tuple2, tuple1\n",
    "print(tuple1)  # Output: (3, 4)\n",
    "print(tuple2)  # Output: (1, 2)\n"
   ]
  },
  {
   "cell_type": "markdown",
   "metadata": {},
   "source": [
    "Create a tuple of numbers and find the maximum and minimum values in the tuple."
   ]
  },
  {
   "cell_type": "code",
   "execution_count": null,
   "metadata": {},
   "outputs": [],
   "source": [
    "numbers = (4, 2, 6, 1, 9)\n",
    "max_value = max(numbers)\n",
    "min_value = min(numbers)\n",
    "print(max_value)  # Output: 9\n",
    "print(min_value)  # Output: 1\n"
   ]
  },
  {
   "cell_type": "markdown",
   "metadata": {},
   "source": [
    "## Dictionaries\n",
    "Create a dictionary of names and their corresponding ages. Print the names of people above a certain age."
   ]
  },
  {
   "cell_type": "code",
   "execution_count": null,
   "metadata": {},
   "outputs": [],
   "source": [
    "ages = {\"Alice\": 25, \"Bob\": 30, \"Charlie\": 20}\n",
    "threshold_age = 25\n",
    "names_above_threshold = [name for name, age in ages.items() if age > threshold_age]\n",
    "print(names_above_threshold)  # Output: [\"Bob\"]\n"
   ]
  },
  {
   "cell_type": "markdown",
   "metadata": {},
   "source": [
    "Given a dictionary, remove a specific key-value pair from it."
   ]
  },
  {
   "cell_type": "code",
   "execution_count": null,
   "metadata": {},
   "outputs": [],
   "source": [
    "person = {\"name\": \"Alice\", \"age\": 25, \"city\": \"New York\"}\n",
    "key_to_remove = \"age\"\n",
    "del person[key_to_remove]\n",
    "print(person)  # Output: {\"name\": \"Alice\", \"city\": \"New York\"}\n"
   ]
  },
  {
   "cell_type": "markdown",
   "metadata": {},
   "source": [
    "Write a program to check if a key exists in a dictionary."
   ]
  },
  {
   "cell_type": "code",
   "execution_count": null,
   "metadata": {},
   "outputs": [],
   "source": [
    "person = {\"name\": \"Alice\", \"age\": 25, \"city\": \"New York\"}\n",
    "key_to_check = \"age\"\n",
    "if key_to_check in person:\n",
    "    print(\"Key exists in the dictionary\")\n",
    "else:\n",
    "    print(\"Key does not exist in the dictionary\")\n"
   ]
  },
  {
   "cell_type": "markdown",
   "metadata": {},
   "source": [
    "Create two dictionaries and merge them into a single dictionary."
   ]
  },
  {
   "cell_type": "code",
   "execution_count": null,
   "metadata": {},
   "outputs": [],
   "source": [
    "dict1 = {\"name\": \"Alice\", \"age\": 25}\n",
    "dict2 = {\"city\": \"New York\", \"country\": \"USA\"}\n",
    "merged_dict = {**dict1, **dict2}\n",
    "print(merged_dict)  # Output: {\"name\": \"Alice\", \"age\": 25, \"city\": \"New York\", \"country\": \"USA\"}\n"
   ]
  },
  {
   "cell_type": "markdown",
   "metadata": {},
   "source": [
    "## Mixed Exercises\n",
    " Create a list of tuples, where each tuple contains a name and a corresponding score. Print the names of students with scores above a certain threshold"
   ]
  },
  {
   "cell_type": "code",
   "execution_count": null,
   "metadata": {},
   "outputs": [],
   "source": [
    "student_scores = [(\"Alice\", 85), (\"Bob\", 92), (\"Charlie\", 78), (\"David\", 90)]\n",
    "\n",
    "threshold = 90\n",
    "\n",
    "# Print names of students with scores above the threshold\n",
    "above_threshold = [name for name, score in student_scores if score > threshold]\n",
    "print(above_threshold)  # Output: ['Bob', 'David']\n",
    "\n"
   ]
  },
  {
   "cell_type": "markdown",
   "metadata": {},
   "source": [
    "Given a list of dictionaries representing students, each with 'name' and 'age' keys, print the average age of all the students."
   ]
  },
  {
   "cell_type": "code",
   "execution_count": null,
   "metadata": {},
   "outputs": [],
   "source": [
    "students = [\n",
    "    {\"name\": \"Alice\", \"age\": 18},\n",
    "    {\"name\": \"Bob\", \"age\": 20},\n",
    "    {\"name\": \"Charlie\", \"age\": 19},\n",
    "    {\"name\": \"David\", \"age\": 21}\n",
    "]\n",
    "\n",
    "# Calculate the average age of students\n",
    "total_age = sum(student[\"age\"] for student in students)\n",
    "average_age = total_age / len(students)\n",
    "print(average_age)  # Output: 19.5\n"
   ]
  },
  {
   "cell_type": "markdown",
   "metadata": {},
   "source": [
    "Write a program that takes a string as input and counts the frequency of each character using a dictionary."
   ]
  },
  {
   "cell_type": "code",
   "execution_count": null,
   "metadata": {},
   "outputs": [],
   "source": [
    "text = \"Hello, world!\"\n",
    "\n",
    "# Count the frequency of each character\n",
    "char_frequency = {}\n",
    "for char in text:\n",
    "    if char in char_frequency:\n",
    "        char_frequency[char] += 1\n",
    "    else:\n",
    "        char_frequency[char] = 1\n",
    "\n",
    "# Print the character frequencies\n",
    "for char, frequency in char_frequency.items():\n",
    "    print(f\"Character '{char}' appears {frequency} times.\")\n"
   ]
  },
  {
   "cell_type": "markdown",
   "metadata": {},
   "source": [
    "Create a set of numbers and print the sum of all the odd numbers in the set."
   ]
  },
  {
   "cell_type": "code",
   "execution_count": null,
   "metadata": {},
   "outputs": [],
   "source": [
    "numbers = {1, 2, 3, 4, 5, 6, 7, 8, 9, 10}\n",
    "\n",
    "# Calculate the sum of odd numbers in the set\n",
    "odd_sum = sum(num for num in numbers if num % 2 != 0)\n",
    "print(odd_sum)  # Output: 25\n"
   ]
  }
 ],
 "metadata": {
  "language_info": {
   "name": "python"
  },
  "orig_nbformat": 4
 },
 "nbformat": 4,
 "nbformat_minor": 2
}
