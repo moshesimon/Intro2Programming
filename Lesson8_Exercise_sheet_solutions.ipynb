{
 "cells": [
  {
   "cell_type": "markdown",
   "metadata": {},
   "source": [
    "## Exercise 1:\n",
    "File Handling: \n",
    "Write a function read_file(filename) that attempts to read a file and return its contents as a string. Use exception handling to provide a useful error message if the file does not exist. How would you extend your function to handle other types of errors, such as permission issues or being interrupted by a keyboard interrupt?"
   ]
  },
  {
   "cell_type": "code",
   "execution_count": null,
   "metadata": {},
   "outputs": [],
   "source": [
    "def divide_numbers(numerator, denominator):\n",
    "    try:\n",
    "        return numerator / denominator\n",
    "    except ZeroDivisionError:\n",
    "        print(\"Error: Division by zero is not allowed.\")\n",
    "    except TypeError:\n",
    "        print(\"Error: Both arguments must be numbers.\")\n",
    "\n",
    "# Test the function\n",
    "print(divide_numbers(10, 0))\n",
    "print(divide_numbers(10, \"five\"))\n"
   ]
  },
  {
   "cell_type": "markdown",
   "metadata": {},
   "source": [
    "## Exercise 2:\n",
    "Type Checking: Write a function divide_numbers(numerator, denominator) that takes two arguments and returns their quotient. Use exception handling to handle the case where the denominator is zero or if either argument is not a number."
   ]
  },
  {
   "cell_type": "code",
   "execution_count": null,
   "metadata": {},
   "outputs": [],
   "source": [
    "try:\n",
    "    user_input = input(\"Please enter a number: \")\n",
    "    number = int(user_input)\n",
    "except ValueError:\n",
    "    print(\"Error: You must enter a numeric value.\")\n",
    "else:\n",
    "    print(f\"Success! You entered the number {number}.\")\n"
   ]
  },
  {
   "cell_type": "markdown",
   "metadata": {},
   "source": [
    "## Exercise 3:\n",
    "Resource Management: Write a program that prompts the user for input and attempts to convert that input into an integer. Use a try/except/else block to handle any ValueError exceptions that occur when the conversion fails. The else clause should print a success message when the conversion is successful."
   ]
  },
  {
   "cell_type": "code",
   "execution_count": null,
   "metadata": {},
   "outputs": [],
   "source": [
    "def nested_exception(x, y, z):\n",
    "    try:\n",
    "        sum_value = x + y\n",
    "        try:\n",
    "            return sum_value / z\n",
    "        except ZeroDivisionError:\n",
    "            print(\"Error: Division by zero is not allowed.\")\n",
    "    except TypeError:\n",
    "        print(\"Error: All arguments must be numbers.\")\n",
    "\n",
    "# Test the function\n",
    "print(nested_exception(10, 20, 0))\n",
    "print(nested_exception(10, \"twenty\", 5))\n"
   ]
  },
  {
   "cell_type": "markdown",
   "metadata": {},
   "source": [
    "## Exercise 4:\n",
    "Nested Exception Handling: Create a function nested_exception(x, y, z) that attempts to compute (x+y)/z. The function should include nested try/except blocks: one for a TypeError (if the arguments are not numbers) and another for a ZeroDivisionError (if z is zero)."
   ]
  },
  {
   "cell_type": "code",
   "execution_count": null,
   "metadata": {},
   "outputs": [],
   "source": [
    "def nested_exception(x, y, z):\n",
    "    try:\n",
    "        sum_value = x + y\n",
    "        try:\n",
    "            return sum_value / z\n",
    "        except ZeroDivisionError:\n",
    "            print(\"Error: Division by zero is not allowed.\")\n",
    "    except TypeError:\n",
    "        print(\"Error: All arguments must be numbers.\")\n",
    "\n",
    "# Test the function\n",
    "print(nested_exception(10, 20, 0))\n",
    "print(nested_exception(10, \"twenty\", 5))\n"
   ]
  },
  {
   "cell_type": "markdown",
   "metadata": {},
   "source": [
    "## Exercise 5:\n",
    "Custom Exception: Define a custom exception OutOfRangeError that is raised when a given number is out of a specified range. Write a function check_range(number, min_value, max_value) that takes a number and checks if it lies within the min_value and max_value. If the number is out of range, the function should raise the OutOfRangeError. Include a try/except block to test this function and catch the custom exception."
   ]
  },
  {
   "cell_type": "code",
   "execution_count": null,
   "metadata": {},
   "outputs": [],
   "source": [
    "class OutOfRangeError(Exception):\n",
    "    pass\n",
    "\n",
    "def check_range(number, min_value, max_value):\n",
    "    if not (min_value <= number <= max_value):\n",
    "        raise OutOfRangeError(f\"The number {number} is out of the range [{min_value}, {max_value}].\")\n",
    "\n",
    "try:\n",
    "    check_range(10, 1, 5)\n",
    "except OutOfRangeError as e:\n",
    "    print(e)\n"
   ]
  }
 ],
 "metadata": {
  "language_info": {
   "name": "python"
  },
  "orig_nbformat": 4
 },
 "nbformat": 4,
 "nbformat_minor": 2
}
