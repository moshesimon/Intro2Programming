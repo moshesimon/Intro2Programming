{
 "cells": [
  {
   "cell_type": "markdown",
   "metadata": {},
   "source": [
    "# RECAP!"
   ]
  },
  {
   "cell_type": "markdown",
   "metadata": {},
   "source": [
    "# Functions\n",
    "\n",
    "Example 1: Write a function named `max_of_three` to find the maximum of three numbers."
   ]
  },
  {
   "cell_type": "code",
   "execution_count": 3,
   "metadata": {},
   "outputs": [
    {
     "name": "stdout",
     "output_type": "stream",
     "text": [
      "20\n"
     ]
    }
   ],
   "source": [
    "def max_of_three(a,b,c):\n",
    "    if a > b & a > c:\n",
    "        return a\n",
    "    elif b > c:\n",
    "        return b\n",
    "    else:\n",
    "        return c\n",
    "\n",
    "print(max_of_three(1,20,3))"
   ]
  },
  {
   "cell_type": "markdown",
   "metadata": {},
   "source": [
    "Example 2: Write a function named add_numbers that takes two numbers as arguments and returns their sum."
   ]
  },
  {
   "cell_type": "code",
   "execution_count": 4,
   "metadata": {},
   "outputs": [
    {
     "name": "stdout",
     "output_type": "stream",
     "text": [
      "3\n"
     ]
    }
   ],
   "source": [
    "def add_numbers(a,b):\n",
    "    return a + b\n",
    "\n",
    "print(add_numbers(1,2))"
   ]
  },
  {
   "cell_type": "markdown",
   "metadata": {},
   "source": [
    "Example 3: Write a function called calculate_area that takes the base and height of a triangle as parameters and returns its area."
   ]
  },
  {
   "cell_type": "code",
   "execution_count": 5,
   "metadata": {},
   "outputs": [
    {
     "name": "stdout",
     "output_type": "stream",
     "text": [
      "100.0\n"
     ]
    }
   ],
   "source": [
    "# A = (1/2) * b * h\n",
    "def calculate_triangle_area(b,h):\n",
    "    return 0.5 * b * h\n",
    "\n",
    "print(calculate_triangle_area(10,20))"
   ]
  },
  {
   "cell_type": "markdown",
   "metadata": {},
   "source": [
    "Example 4: Define a function convert_to_celsius that takes a temperature in Fahrenheit as an input and returns the temperature converted to Celsius."
   ]
  },
  {
   "cell_type": "code",
   "execution_count": 6,
   "metadata": {},
   "outputs": [
    {
     "name": "stdout",
     "output_type": "stream",
     "text": [
      "37.77777777777778\n"
     ]
    }
   ],
   "source": [
    "#°C = (°F - 32) * (5/9)\n",
    "def fahrenheit_to_celsius(f):\n",
    "    return (f - 32) * (5/9)\n",
    "\n",
    "print(fahrenheit_to_celsius(100))"
   ]
  },
  {
   "cell_type": "markdown",
   "metadata": {},
   "source": [
    "Example 5: Write a function called reverse_string that takes a string as a parameter and returns the string in reversed order."
   ]
  },
  {
   "cell_type": "code",
   "execution_count": 13,
   "metadata": {},
   "outputs": [
    {
     "name": "stdout",
     "output_type": "stream",
     "text": [
      "olleH\n"
     ]
    }
   ],
   "source": [
    "def reverse_string(s):\n",
    "    return s[::-1] # s[start:stop:step]\n",
    "\n",
    "print(reverse_string(\"Hello\"))"
   ]
  },
  {
   "cell_type": "markdown",
   "metadata": {},
   "source": [
    "Example 6: Define a function fibonacci that takes an integer n and returns the nth Fibonacci number."
   ]
  },
  {
   "cell_type": "code",
   "execution_count": null,
   "metadata": {},
   "outputs": [],
   "source": [
    "# F(n) = F(n-1) + F(n-2)\n",
    "def fibonacci(n): # 2 # 1 # 0\n",
    "    if n <= 1:\n",
    "        return n\n",
    "    else:\n",
    "        return fibonacci(n-1) + fibonacci(n-2) # 1 \n"
   ]
  },
  {
   "cell_type": "markdown",
   "metadata": {},
   "source": [
    "Example 7: Write a function is_prime that takes a number as input and returns True if the number is a prime number and False otherwise."
   ]
  },
  {
   "cell_type": "code",
   "execution_count": 16,
   "metadata": {},
   "outputs": [
    {
     "name": "stdout",
     "output_type": "stream",
     "text": [
      "False\n"
     ]
    }
   ],
   "source": [
    "def is_prime(n):\n",
    "    if n < 2:\n",
    "        return False\n",
    "    for i in range(2, int(n**0.5) + 1):\n",
    "        if n % i == 0:\n",
    "            return False\n",
    "    return True\n",
    "\n",
    "print(is_prime(27))\n"
   ]
  },
  {
   "cell_type": "code",
   "execution_count": 17,
   "metadata": {},
   "outputs": [
    {
     "name": "stdout",
     "output_type": "stream",
     "text": [
      "0 1\n"
     ]
    }
   ],
   "source": [
    "a , b = 0, 1\n",
    "a =0\n",
    "b = 1\n",
    "\n",
    "print(a,b)"
   ]
  },
  {
   "cell_type": "markdown",
   "metadata": {},
   "source": [
    "Example 8: Create a function greatest_common_divisor that takes two numbers as input and returns their greatest common divisor."
   ]
  },
  {
   "cell_type": "code",
   "execution_count": null,
   "metadata": {},
   "outputs": [],
   "source": [
    "def gcd(a, b): # 12, 8\n",
    "    while b != 0:\n",
    "        a, b = b, a % b # 8, 4 # 4, 0\n",
    "    return a\n",
    "\n",
    "print(gcd(67,8))"
   ]
  },
  {
   "cell_type": "markdown",
   "metadata": {},
   "source": [
    "Example 9: Write a function convert_to_seconds that takes three parameters: hours, minutes, and seconds, and returns the total amount of seconds."
   ]
  },
  {
   "cell_type": "code",
   "execution_count": null,
   "metadata": {},
   "outputs": [],
   "source": [
    "def convert_to_seconds(h,m,s):\n",
    "    return h*3600 + m*60 + s"
   ]
  },
  {
   "cell_type": "markdown",
   "metadata": {},
   "source": [
    "Example 10:Write a function is_divisible that takes two parameters, num1 and num2, and returns True if num1 is divisible by num2 and False otherwise."
   ]
  },
  {
   "cell_type": "code",
   "execution_count": 21,
   "metadata": {},
   "outputs": [
    {
     "name": "stdout",
     "output_type": "stream",
     "text": [
      "True\n"
     ]
    }
   ],
   "source": [
    "def is_divisible_by(num1, num2):\n",
    "    return num1 % num2 == 0\n",
    "\n",
    "print(is_divisible_by(10,2))"
   ]
  },
  {
   "cell_type": "code",
   "execution_count": 36,
   "metadata": {},
   "outputs": [],
   "source": [
    "a = \"\"\n",
    "\n",
    "if a:\n",
    "    print(\"a is not empty\")"
   ]
  },
  {
   "cell_type": "markdown",
   "metadata": {},
   "source": [
    "# Strings and lists"
   ]
  },
  {
   "cell_type": "markdown",
   "metadata": {},
   "source": [
    "Exercise 1: Write a Python program to take a string input from the user and print it in lower case."
   ]
  },
  {
   "cell_type": "code",
   "execution_count": 37,
   "metadata": {},
   "outputs": [
    {
     "name": "stdout",
     "output_type": "stream",
     "text": [
      "hello\n"
     ]
    }
   ],
   "source": [
    "def lower_case(s):\n",
    "    return s.lower()\n",
    "\n",
    "print(lower_case(\"HELLO\"))"
   ]
  },
  {
   "cell_type": "markdown",
   "metadata": {},
   "source": [
    "Exercise 2: Write a Python function called remove_whitespace that takes a string and returns the same string with all white spaces removed."
   ]
  },
  {
   "cell_type": "code",
   "execution_count": 38,
   "metadata": {},
   "outputs": [
    {
     "name": "stdout",
     "output_type": "stream",
     "text": [
      "Hello\n"
     ]
    }
   ],
   "source": [
    "def remove_whitespace(s):\n",
    "    return s.strip()\n",
    "\n",
    "print(remove_whitespace(\"   Hello   \"))"
   ]
  },
  {
   "cell_type": "markdown",
   "metadata": {},
   "source": [
    "Exercise 3: Write a Python function named count_occurrences that counts the number of times a specific character occurs in a string. The function should take a string and a character as input."
   ]
  },
  {
   "cell_type": "code",
   "execution_count": 39,
   "metadata": {},
   "outputs": [
    {
     "name": "stdout",
     "output_type": "stream",
     "text": [
      "2\n"
     ]
    }
   ],
   "source": [
    "def count_occurences(s, c):\n",
    "    return s.count(c)\n",
    "\n",
    "print(count_occurences(\"Hello\", \"l\"))"
   ]
  },
  {
   "cell_type": "markdown",
   "metadata": {},
   "source": [
    "Exercise 4: Write a Python function called add_to_list that takes a list and an element as parameters. The function should add the element to the end of the list and then return the modified list."
   ]
  },
  {
   "cell_type": "code",
   "execution_count": 42,
   "metadata": {},
   "outputs": [
    {
     "name": "stdout",
     "output_type": "stream",
     "text": [
      "[1, 2, 3, 4]\n"
     ]
    }
   ],
   "source": [
    "def add_to_list(l, e):\n",
    "    l.append(e)\n",
    "    return l\n",
    "    \n",
    "print(add_to_list([1,2,3], 4))"
   ]
  },
  {
   "cell_type": "markdown",
   "metadata": {},
   "source": [
    "Exercise 5: Write a Python program that returns the smallest number from a list of integers."
   ]
  },
  {
   "cell_type": "code",
   "execution_count": 47,
   "metadata": {},
   "outputs": [
    {
     "name": "stdout",
     "output_type": "stream",
     "text": [
      "5\n"
     ]
    }
   ],
   "source": [
    "def smallest_number(l):\n",
    "    return max(l)\n",
    "\n",
    "print(smallest_number([1,2,3,4,5]))"
   ]
  },
  {
   "cell_type": "markdown",
   "metadata": {},
   "source": [
    "Exercise 6: Write a Python function called list_reverse that takes a list as parameter and returns the list in reverse order."
   ]
  },
  {
   "cell_type": "code",
   "execution_count": 48,
   "metadata": {},
   "outputs": [
    {
     "name": "stdout",
     "output_type": "stream",
     "text": [
      "[5, 4, 3, 2, 1]\n"
     ]
    }
   ],
   "source": [
    "def reverse_list(l):\n",
    "    l.reverse()\n",
    "    return l\n",
    "\n",
    "print(reverse_list([1,2,3,4,5]))"
   ]
  },
  {
   "cell_type": "markdown",
   "metadata": {},
   "source": [
    "Exercise 7: Write a Python program that takes a string and calculates the number of digits and letters present in the string. Use Python's built-in isdigit and isalpha methods."
   ]
  },
  {
   "cell_type": "code",
   "execution_count": 49,
   "metadata": {},
   "outputs": [
    {
     "name": "stdout",
     "output_type": "stream",
     "text": [
      "(3, 5)\n"
     ]
    }
   ],
   "source": [
    "def num_digits_and_letters(s):\n",
    "    digits = 0\n",
    "    letters = 0\n",
    "    for c in s:\n",
    "        if c.isdigit():\n",
    "            digits += 1\n",
    "        elif c.isalpha():\n",
    "            letters += 1\n",
    "    return digits, letters\n",
    "\n",
    "print(num_digits_and_letters(\"Hello123\"))"
   ]
  },
  {
   "cell_type": "markdown",
   "metadata": {},
   "source": [
    "Exercise 8: Write a function called multiply_list that takes a list of numbers as an argument and returns the product of all the numbers in the list."
   ]
  },
  {
   "cell_type": "code",
   "execution_count": 50,
   "metadata": {},
   "outputs": [
    {
     "name": "stdout",
     "output_type": "stream",
     "text": [
      "120\n"
     ]
    }
   ],
   "source": [
    "def multiply_list(l):\n",
    "    total = 1\n",
    "    for i in l:\n",
    "        total = total * i\n",
    "    return total\n",
    "\n",
    "print(multiply_list([1,2,3,4,5]))"
   ]
  },
  {
   "cell_type": "markdown",
   "metadata": {},
   "source": [
    "Exercise 9: Define a function find_longest_word that takes a list of words and returns the longest one. If there are multiple words of the same maximum length, return the first one encountered."
   ]
  },
  {
   "cell_type": "code",
   "execution_count": 51,
   "metadata": {},
   "outputs": [
    {
     "name": "stdout",
     "output_type": "stream",
     "text": [
      "Longest\n"
     ]
    }
   ],
   "source": [
    "def find_longest_word(l):\n",
    "    longest = \"\"\n",
    "    for word in l:\n",
    "        if len(word) > len(longest):\n",
    "            longest = word\n",
    "    return longest\n",
    "\n",
    "print(find_longest_word([\"Hello\", \"World\", \"Longest\"]))"
   ]
  },
  {
   "cell_type": "markdown",
   "metadata": {},
   "source": [
    "Exercise 10: Write a function find_unique that takes a list as a parameter and returns a new list with the unique elements of the first list. Do not use Python's built-in set type or the unique function in numpy."
   ]
  },
  {
   "cell_type": "code",
   "execution_count": null,
   "metadata": {},
   "outputs": [],
   "source": []
  },
  {
   "cell_type": "markdown",
   "metadata": {},
   "source": [
    "Exercise 11: Write a function check_palindrome that checks whether a given word or sentence is a palindrome (it reads the same backwards as forwards). Ignore capitalization, spacing, and punctuation in your check."
   ]
  },
  {
   "cell_type": "code",
   "execution_count": null,
   "metadata": {},
   "outputs": [],
   "source": []
  },
  {
   "cell_type": "markdown",
   "metadata": {},
   "source": [
    "Exercise 12: Write a Python program that takes a list of numbers as input and returns a new list containing only the even numbers from the given list."
   ]
  },
  {
   "cell_type": "code",
   "execution_count": null,
   "metadata": {},
   "outputs": [],
   "source": []
  }
 ],
 "metadata": {
  "kernelspec": {
   "display_name": "Python 3",
   "language": "python",
   "name": "python3"
  },
  "language_info": {
   "codemirror_mode": {
    "name": "ipython",
    "version": 3
   },
   "file_extension": ".py",
   "mimetype": "text/x-python",
   "name": "python",
   "nbconvert_exporter": "python",
   "pygments_lexer": "ipython3",
   "version": "3.10.11"
  },
  "orig_nbformat": 4
 },
 "nbformat": 4,
 "nbformat_minor": 2
}
