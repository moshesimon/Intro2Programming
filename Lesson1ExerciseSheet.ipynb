{
 "cells": [
  {
   "attachments": {},
   "cell_type": "markdown",
   "metadata": {},
   "source": [
    "## Variables"
   ]
  },
  {
   "cell_type": "code",
   "execution_count": null,
   "metadata": {},
   "outputs": [],
   "source": [
    "# Create a variable named carname and assign the value Volvo to it. Then print the variable."
   ]
  },
  {
   "cell_type": "code",
   "execution_count": null,
   "metadata": {},
   "outputs": [],
   "source": [
    "# Create three variables: an integer a with a value of 10, a floating point number b with a value of 3.14, and a string c with a value of \"Python is fun!\". Then print the value of each variable."
   ]
  },
  {
   "cell_type": "code",
   "execution_count": null,
   "metadata": {},
   "outputs": [],
   "source": [
    "# Create two variables, x and y, with values of your choosing. Compute their sum, difference, product, and store each result in a new variable. Then print all these results."
   ]
  },
  {
   "cell_type": "code",
   "execution_count": null,
   "metadata": {},
   "outputs": [],
   "source": [
    "# Create two string variables, first_name and last_name, and assign them with your first name and last name respectively. \n",
    "# Create a third variable, full_name, which is the concatenation of the first two variables, separated by a space. Then print full_name."
   ]
  },
  {
   "cell_type": "code",
   "execution_count": null,
   "metadata": {},
   "outputs": [],
   "source": [
    "# Create two variables p and q and assign them any numeric values of your choice. Without using a third variable, swap the values of p and q. \n",
    "# Print p and q before and after the swap to verify your solution."
   ]
  },
  {
   "attachments": {},
   "cell_type": "markdown",
   "metadata": {},
   "source": [
    "## Condition statements"
   ]
  },
  {
   "cell_type": "code",
   "execution_count": null,
   "metadata": {},
   "outputs": [],
   "source": [
    "# Write a program that stores a number in a variable and prints whether the number is positive, negative, or zero."
   ]
  },
  {
   "cell_type": "code",
   "execution_count": null,
   "metadata": {},
   "outputs": [],
   "source": [
    "# Create a program that stores an age in a variable. If the age is less than 18, print \"Minor\". \n",
    "# If the age is between 18 and 64, print \"Adult\". If the age is 65 or above, print \"Senior Citizen\"."
   ]
  },
  {
   "cell_type": "code",
   "execution_count": null,
   "metadata": {},
   "outputs": [],
   "source": [
    "# Write a program that checks if a number stored in a variable is even or odd. \n",
    "# Hint: Use the modulus operator (%). The expression num % 2 returns 0 for even numbers and 1 for odd numbers."
   ]
  },
  {
   "cell_type": "code",
   "execution_count": null,
   "metadata": {},
   "outputs": [],
   "source": [
    "# Create a program that checks a temperature variable. If the temperature is above 30, print \"It's hot!\". \n",
    "# If it's between 20 and 30, print \"It's nice!\". If it's below 20, print \"It's cold!\"."
   ]
  },
  {
   "cell_type": "code",
   "execution_count": null,
   "metadata": {},
   "outputs": [],
   "source": [
    "# Store a grade (from 1 to 100) in a variable. \n",
    "# Write a program that prints \"Failing\" if the grade is less than 60, \"Pass\" if the grade is between 60 and 79, \"Good\" if the grade is between 80 and 89, \n",
    "# and \"Excellent\" if the grade is 90 or above."
   ]
  },
  {
   "attachments": {},
   "cell_type": "markdown",
   "metadata": {},
   "source": [
    "## While Loops "
   ]
  },
  {
   "cell_type": "code",
   "execution_count": null,
   "metadata": {},
   "outputs": [],
   "source": [
    "# Write a program that prints the numbers from 1 to 10 using a while loop."
   ]
  },
  {
   "cell_type": "code",
   "execution_count": null,
   "metadata": {},
   "outputs": [],
   "source": [
    "# Write a program that counts down from 10 to 1 using a while loop, then prints \"Blast off!\"."
   ]
  },
  {
   "cell_type": "code",
   "execution_count": null,
   "metadata": {},
   "outputs": [],
   "source": [
    "# Write a while loop that prints out all even numbers between 1 and 20."
   ]
  },
  {
   "attachments": {},
   "cell_type": "markdown",
   "metadata": {},
   "source": [
    "Bonus"
   ]
  },
  {
   "cell_type": "code",
   "execution_count": null,
   "metadata": {},
   "outputs": [],
   "source": [
    "# Write a program that continually asks the user to enter a word, unless they enter \"quit\", in which case the program should stop asking for words and print \"Exiting program\". \n",
    "# Use a while loop to accomplish this."
   ]
  },
  {
   "attachments": {},
   "cell_type": "markdown",
   "metadata": {},
   "source": [
    "## For Loops"
   ]
  },
  {
   "cell_type": "code",
   "execution_count": null,
   "metadata": {},
   "outputs": [],
   "source": [
    "# Write a program that prints the numbers from 1 to 10 using a for loop."
   ]
  },
  {
   "cell_type": "code",
   "execution_count": null,
   "metadata": {},
   "outputs": [],
   "source": [
    "# Write a for loop that prints the squares of the numbers from 1 to 10. \n",
    "# The output should be: 1 4 9 16 25 36 49 64 81 100."
   ]
  },
  {
   "cell_type": "code",
   "execution_count": null,
   "metadata": {},
   "outputs": [],
   "source": [
    "# Create a list of 5 fruits (strings), and use a for loop to print out each fruit on a new line."
   ]
  },
  {
   "cell_type": "code",
   "execution_count": null,
   "metadata": {},
   "outputs": [],
   "source": [
    "# Write a program that asks the user to input a word, then uses a for loop to count \n",
    "# and print out the number of letters in the word."
   ]
  },
  {
   "cell_type": "code",
   "execution_count": null,
   "metadata": {},
   "outputs": [],
   "source": [
    "# Create a program that calculates the factorial of a number. \n",
    "# To calculate factorial of a number N, you multiply all numbers from 1 to N. \n",
    "# The factorial of 5, for example, is 5*4*3*2*1 = 120. \n",
    "# Use a for loop to calculate and print the factorial of a number."
   ]
  }
 ],
 "metadata": {
  "language_info": {
   "name": "python"
  },
  "orig_nbformat": 4
 },
 "nbformat": 4,
 "nbformat_minor": 2
}
