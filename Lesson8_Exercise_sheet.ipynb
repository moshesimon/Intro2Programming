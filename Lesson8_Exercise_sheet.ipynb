{
 "cells": [
  {
   "cell_type": "markdown",
   "metadata": {},
   "source": [
    "## Exercise 1:\n",
    "File Handling: \n",
    "Write a function read_file(filename) that attempts to read a file and return its contents as a string. Use exception handling to provide a useful error message if the file does not exist. How would you extend your function to handle other types of errors, such as permission issues or being interrupted by a keyboard interrupt?"
   ]
  },
  {
   "cell_type": "code",
   "execution_count": null,
   "metadata": {},
   "outputs": [],
   "source": []
  },
  {
   "cell_type": "markdown",
   "metadata": {},
   "source": [
    "## Exercise 2:\n",
    "Type Checking: Write a function divide_numbers(numerator, denominator) that takes two arguments and returns their quotient. Use exception handling to handle the case where the denominator is zero or if either argument is not a number."
   ]
  },
  {
   "cell_type": "code",
   "execution_count": null,
   "metadata": {},
   "outputs": [],
   "source": []
  },
  {
   "cell_type": "markdown",
   "metadata": {},
   "source": [
    "## Exercise 3:\n",
    "Resource Management: Write a program that prompts the user for input and attempts to convert that input into an integer. Use a try/except/else block to handle any ValueError exceptions that occur when the conversion fails. The else clause should print a success message when the conversion is successful."
   ]
  },
  {
   "cell_type": "code",
   "execution_count": null,
   "metadata": {},
   "outputs": [],
   "source": []
  },
  {
   "cell_type": "markdown",
   "metadata": {},
   "source": [
    "## Exercise 4:\n",
    "Nested Exception Handling: Create a function nested_exception(x, y, z) that attempts to compute (x+y)/z. The function should include nested try/except blocks: one for a TypeError (if the arguments are not numbers) and another for a ZeroDivisionError (if z is zero)."
   ]
  },
  {
   "cell_type": "code",
   "execution_count": null,
   "metadata": {},
   "outputs": [],
   "source": []
  },
  {
   "cell_type": "markdown",
   "metadata": {},
   "source": [
    "## Exercise 5:\n",
    "Custom Exception: Define a custom exception OutOfRangeError that is raised when a given number is out of a specified range. Write a function check_range(number, min_value, max_value) that takes a number and checks if it lies within the min_value and max_value. If the number is out of range, the function should raise the OutOfRangeError. Include a try/except block to test this function and catch the custom exception."
   ]
  },
  {
   "cell_type": "code",
   "execution_count": null,
   "metadata": {},
   "outputs": [],
   "source": []
  }
 ],
 "metadata": {
  "language_info": {
   "name": "python"
  },
  "orig_nbformat": 4
 },
 "nbformat": 4,
 "nbformat_minor": 2
}
