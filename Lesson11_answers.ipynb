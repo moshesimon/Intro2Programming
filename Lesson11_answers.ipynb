{
 "cells": [
  {
   "cell_type": "markdown",
   "metadata": {},
   "source": [
    "# Python Modules\n",
    "## What is a Module?\n",
    "Consider a module to be the same as a code library.\n",
    "\n",
    "A file containing a set of functions you want to include in your application.\n",
    "\n",
    "## Create a Module\n",
    "To create a module just save the code you want in a file with the file extension .py:\n",
    "\n",
    "\n",
    "Save this code in a file named mymodule.py"
   ]
  },
  {
   "cell_type": "code",
   "execution_count": 1,
   "metadata": {},
   "outputs": [],
   "source": [
    "def greeting(name):\n",
    "  print(\"Hello, \" + name)"
   ]
  },
  {
   "cell_type": "markdown",
   "metadata": {},
   "source": [
    "## Use a Module\n",
    "Now we can use the module we just created, by using the import statement:"
   ]
  },
  {
   "cell_type": "code",
   "execution_count": null,
   "metadata": {},
   "outputs": [],
   "source": [
    "import mymodule\n",
    "\n",
    "mymodule.greeting(\"Jonathan\")"
   ]
  },
  {
   "cell_type": "markdown",
   "metadata": {},
   "source": [
    "## Variables in Module\n",
    "The module can contain functions, as already described, but also variables of all types (arrays, dictionaries, objects etc):\n",
    "\n",
    "Save this code in the file mymodule.py:"
   ]
  },
  {
   "cell_type": "code",
   "execution_count": null,
   "metadata": {},
   "outputs": [],
   "source": [
    "person1 = {\n",
    "  \"name\": \"John\",\n",
    "  \"age\": 36,\n",
    "  \"country\": \"Norway\"\n",
    "}"
   ]
  },
  {
   "cell_type": "markdown",
   "metadata": {},
   "source": [
    "Import the module named mymodule, and access the person1 dictionary:"
   ]
  },
  {
   "cell_type": "code",
   "execution_count": null,
   "metadata": {},
   "outputs": [],
   "source": [
    "import mymodule\n",
    "\n",
    "a = mymodule.person1[\"age\"]\n",
    "print(a)"
   ]
  },
  {
   "cell_type": "markdown",
   "metadata": {},
   "source": [
    "## Naming a Module\n",
    "You can name the module file whatever you like, but it must have the file extension .py\n",
    "\n",
    "## Re-naming a Module\n",
    "You can create an alias when you import a module, by using the as keyword:"
   ]
  },
  {
   "cell_type": "code",
   "execution_count": null,
   "metadata": {},
   "outputs": [],
   "source": [
    "import mymodule as mx\n",
    "\n",
    "a = mx.person1[\"age\"]\n",
    "print(a)"
   ]
  },
  {
   "cell_type": "markdown",
   "metadata": {},
   "source": [
    "## Import From Module\n",
    "You can choose to import only parts from a module, by using the from keyword.\n",
    "\n",
    "The module named mymodule has one function and one dictionary:"
   ]
  },
  {
   "cell_type": "code",
   "execution_count": null,
   "metadata": {},
   "outputs": [],
   "source": [
    "def greeting(name):\n",
    "  print(\"Hello, \" + name)\n",
    "\n",
    "person1 = {\n",
    "  \"name\": \"John\",\n",
    "  \"age\": 36,\n",
    "  \"country\": \"Norway\"\n",
    "}"
   ]
  },
  {
   "cell_type": "markdown",
   "metadata": {},
   "source": [
    "Import only the person1 dictionary from the module:"
   ]
  },
  {
   "cell_type": "code",
   "execution_count": null,
   "metadata": {},
   "outputs": [],
   "source": [
    "from mymodule import person1\n",
    "\n",
    "print (person1[\"age\"])"
   ]
  },
  {
   "cell_type": "markdown",
   "metadata": {},
   "source": [
    "## Built-in Modules\n",
    "There are several built-in modules in Python, which you can import whenever you like."
   ]
  },
  {
   "cell_type": "code",
   "execution_count": null,
   "metadata": {},
   "outputs": [],
   "source": [
    "import platform\n",
    "\n",
    "x = platform.system()\n",
    "print(x)"
   ]
  },
  {
   "cell_type": "markdown",
   "metadata": {},
   "source": [
    "## Using the dir() Function\n",
    "There is a built-in function to list all the function names (or variable names) in a module. The dir() function:"
   ]
  },
  {
   "cell_type": "code",
   "execution_count": null,
   "metadata": {},
   "outputs": [],
   "source": [
    "import platform\n",
    "\n",
    "x = dir(platform)\n",
    "print(x)"
   ]
  },
  {
   "cell_type": "markdown",
   "metadata": {},
   "source": [
    "## Using the random module\n",
    "There is a module called random that has many useful functions like randint which generates a random number in a specified range"
   ]
  },
  {
   "cell_type": "code",
   "execution_count": null,
   "metadata": {},
   "outputs": [],
   "source": [
    "import random\n",
    "print(random.randint(1, 10))"
   ]
  },
  {
   "cell_type": "markdown",
   "metadata": {},
   "source": [
    "# Python PIP\n",
    "## What is PIP?\n",
    "PIP is a package manager for Python packages, or modules if you like.\n",
    "\n",
    "## What is a Package?\n",
    "A package contains all the files you need for a module.\n",
    "\n",
    "Modules are Python code libraries you can include in your project.\n",
    "\n",
    "## Check if PIP is Installed\n",
    "Navigate your command line to the location of Python's script directory, and type the following:"
   ]
  },
  {
   "cell_type": "code",
   "execution_count": null,
   "metadata": {
    "vscode": {
     "languageId": "powershell"
    }
   },
   "outputs": [],
   "source": [
    "pip --version"
   ]
  },
  {
   "cell_type": "markdown",
   "metadata": {},
   "source": [
    "## Install PIP\n",
    "If you do not have PIP installed, you can download and install it from this page: https://pypi.org/project/pip/"
   ]
  },
  {
   "cell_type": "markdown",
   "metadata": {},
   "source": [
    "Download a Package\n",
    "Downloading a package is very easy.\n",
    "\n",
    "Open the command line interface and tell PIP to download the package you want.\n",
    "\n",
    "Navigate your command line to the location of Python's script directory, and type the following:"
   ]
  },
  {
   "cell_type": "code",
   "execution_count": null,
   "metadata": {
    "vscode": {
     "languageId": "powershell"
    }
   },
   "outputs": [],
   "source": [
    "pip install camelcase"
   ]
  },
  {
   "cell_type": "code",
   "execution_count": null,
   "metadata": {},
   "outputs": [],
   "source": [
    "%pip install camelcase"
   ]
  },
  {
   "cell_type": "markdown",
   "metadata": {},
   "source": [
    "## Using a Package\n",
    "Once the package is installed, it is ready to use.\n",
    "\n",
    "Import the \"camelcase\" package into your project."
   ]
  },
  {
   "cell_type": "code",
   "execution_count": null,
   "metadata": {},
   "outputs": [],
   "source": [
    "import camelcase\n",
    "\n",
    "c = camelcase.CamelCase()\n",
    "\n",
    "txt = \"hello world\"\n",
    "\n",
    "print(c.hump(txt))"
   ]
  },
  {
   "cell_type": "markdown",
   "metadata": {},
   "source": [
    "## Find Packages\n",
    "Find more packages at https://pypi.org/.\n",
    "\n",
    "## Remove a Package\n",
    "Use the uninstall command to remove a package:"
   ]
  },
  {
   "cell_type": "code",
   "execution_count": null,
   "metadata": {},
   "outputs": [],
   "source": [
    "%pip uninstall camelcase"
   ]
  },
  {
   "cell_type": "markdown",
   "metadata": {},
   "source": [
    "## List Packages\n",
    "Use the list command to list all the packages installed on your system:"
   ]
  },
  {
   "cell_type": "code",
   "execution_count": 16,
   "metadata": {},
   "outputs": [
    {
     "name": "stdout",
     "output_type": "stream",
     "text": [
      "Package            Version\n",
      "------------------ -----------\n",
      "aiodns             3.0.0\n",
      "aiohttp            3.8.3\n",
      "aiohttp-socks      0.7.1\n",
      "aiosignal          1.3.1\n",
      "arcade             1.3.7\n",
      "asttokens          2.2.1\n",
      "async-timeout      4.0.2\n",
      "attrs              22.1.0\n",
      "backcall           0.2.0\n",
      "beautifulsoup4     4.11.2\n",
      "build              0.9.0\n",
      "cchardet           2.1.7\n",
      "certifi            2022.12.7\n",
      "cffi               1.15.1\n",
      "cfgv               3.3.1\n",
      "charset-normalizer 2.1.1\n",
      "click              8.1.3\n",
      "colorama           0.4.6\n",
      "comm               0.1.2\n",
      "debugpy            1.6.6\n",
      "decorator          5.1.1\n",
      "distlib            0.3.6\n",
      "elastic-transport  8.4.0\n",
      "elasticsearch      8.6.1\n",
      "entrypoints        0.4\n",
      "executing          1.2.0\n",
      "fake-useragent     1.1.1\n",
      "filelock           3.12.2\n",
      "frozenlist         1.3.3\n",
      "geographiclib      2.0\n",
      "geopy              2.3.0\n",
      "googletransx       2.4.2\n",
      "identify           2.5.24\n",
      "idna               3.4\n",
      "ipykernel          6.20.2\n",
      "ipython            8.8.0\n",
      "jedi               0.18.2\n",
      "jupyter_client     7.4.9\n",
      "jupyter_core       5.1.5\n",
      "keras              2.11.0\n",
      "matplotlib-inline  0.1.6\n",
      "multidict          6.0.4\n",
      "mypy-extensions    1.0.0\n",
      "nest-asyncio       1.5.6\n",
      "nodeenv            1.8.0\n",
      "numpy              1.24.1\n",
      "opencv-python      4.7.0.68\n",
      "packaging          23.1\n",
      "pandas             1.5.3\n",
      "parso              0.8.3\n",
      "pathspec           0.11.1\n",
      "pep517             0.13.0\n",
      "pickleshare        0.7.5\n",
      "Pillow             9.1.1\n",
      "pip                23.1.2\n",
      "platformdirs       3.6.0\n",
      "prompt-toolkit     3.0.36\n",
      "psutil             5.9.4\n",
      "pure-eval          0.2.2\n",
      "pycares            4.3.0\n",
      "pycparser          2.21\n",
      "pyglet             2.0.dev23\n",
      "Pygments           2.14.0\n",
      "pymunk             6.2.1\n",
      "pyparsing          3.0.9\n",
      "PySocks            1.7.1\n",
      "python-dateutil    2.8.2\n",
      "python-socks       2.1.1\n",
      "pytiled-parser     2.2.0\n",
      "pytz               2022.7.1\n",
      "pywin32            305\n",
      "PyYAML             6.0\n",
      "pyzmq              25.0.0\n",
      "requests           2.28.2\n",
      "schedule           1.1.0\n",
      "scipy              1.9.3\n",
      "six                1.16.0\n",
      "soupsieve          2.3.2.post1\n",
      "stack-data         0.6.2\n",
      "tomli              2.0.1\n",
      "tornado            6.2\n",
      "tqdm               4.65.0\n",
      "traitlets          5.8.1\n",
      "twint              2.1.20\n",
      "typing_extensions  4.4.0\n",
      "urllib3            1.26.14\n",
      "virtualenv         20.23.1\n",
      "wcwidth            0.2.6\n",
      "xgboost            1.7.3\n",
      "yarl               1.8.2\n",
      "Note: you may need to restart the kernel to use updated packages.\n"
     ]
    }
   ],
   "source": [
    "%pip list"
   ]
  }
 ],
 "metadata": {
  "kernelspec": {
   "display_name": "Python 3",
   "language": "python",
   "name": "python3"
  },
  "language_info": {
   "codemirror_mode": {
    "name": "ipython",
    "version": 3
   },
   "file_extension": ".py",
   "mimetype": "text/x-python",
   "name": "python",
   "nbconvert_exporter": "python",
   "pygments_lexer": "ipython3",
   "version": "3.10.11"
  },
  "orig_nbformat": 4
 },
 "nbformat": 4,
 "nbformat_minor": 2
}
