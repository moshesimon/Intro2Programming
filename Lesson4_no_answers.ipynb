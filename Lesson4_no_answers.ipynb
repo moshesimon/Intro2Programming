{
  "cells": [
    {
      "cell_type": "markdown",
      "metadata": {
        "id": "LdE6cOT58Tcb"
      },
      "source": [
        "# RECAP!"
      ]
    },
    {
      "cell_type": "markdown",
      "metadata": {
        "id": "VJ41UYAR8TiO"
      },
      "source": [
        "# Functions\n",
        "\n",
        "Example 1: Write a function named `max_of_three` to find the maximum of three numbers."
      ]
    },
    {
      "cell_type": "code",
      "execution_count": null,
      "metadata": {
        "id": "qihFoKyM8TiQ"
      },
      "outputs": [],
      "source": []
    },
    {
      "cell_type": "markdown",
      "metadata": {
        "id": "vhzTXk808TiS"
      },
      "source": [
        "Example 2: Write a function named add_numbers that takes two numbers as arguments and returns their sum."
      ]
    },
    {
      "cell_type": "code",
      "execution_count": null,
      "metadata": {},
      "outputs": [],
      "source": []
    },
    {
      "cell_type": "markdown",
      "metadata": {
        "id": "Psx7RL0D8TiV"
      },
      "source": [
        "Example 3: Write a function called calculate_area that takes the base and height of a triangle as parameters and returns its area."
      ]
    },
    {
      "cell_type": "code",
      "execution_count": null,
      "metadata": {},
      "outputs": [],
      "source": []
    },
    {
      "cell_type": "markdown",
      "metadata": {
        "id": "f5Uw0ahv8Tid"
      },
      "source": [
        "Example 4: Define a function convert_to_celsius that takes a temperature in Fahrenheit as an input and returns the temperature converted to Celsius."
      ]
    },
    {
      "cell_type": "code",
      "execution_count": null,
      "metadata": {},
      "outputs": [],
      "source": []
    },
    {
      "cell_type": "markdown",
      "metadata": {
        "id": "-gXxqJ_R8Tik"
      },
      "source": [
        "Example 5: Write a function called reverse_string that takes a string as a parameter and returns the string in reversed order."
      ]
    },
    {
      "cell_type": "code",
      "execution_count": null,
      "metadata": {},
      "outputs": [],
      "source": []
    },
    {
      "cell_type": "markdown",
      "metadata": {
        "id": "ajFlgVb88Tin"
      },
      "source": [
        "Example 6: Define a function fibonacci that takes an integer n and returns the nth Fibonacci number."
      ]
    },
    {
      "cell_type": "code",
      "execution_count": null,
      "metadata": {},
      "outputs": [],
      "source": []
    },
    {
      "cell_type": "markdown",
      "metadata": {
        "id": "J1oOQbAi8Tio"
      },
      "source": [
        "Example 7: Write a function is_prime that takes a number as input and returns True if the number is a prime number and False otherwise."
      ]
    },
    {
      "cell_type": "code",
      "execution_count": null,
      "metadata": {},
      "outputs": [],
      "source": []
    },
    {
      "cell_type": "markdown",
      "metadata": {
        "id": "oc_6J_dn8Tip"
      },
      "source": [
        "Example 8: Create a function greatest_common_divisor that takes two numbers as input and returns their greatest common divisor."
      ]
    },
    {
      "cell_type": "code",
      "execution_count": null,
      "metadata": {},
      "outputs": [],
      "source": []
    },
    {
      "cell_type": "markdown",
      "metadata": {
        "id": "q3xEqNWq8Tis"
      },
      "source": [
        "Example 9: Write a function convert_to_seconds that takes three parameters: hours, minutes, and seconds, and returns the total amount of seconds."
      ]
    },
    {
      "cell_type": "code",
      "execution_count": null,
      "metadata": {},
      "outputs": [],
      "source": []
    },
    {
      "cell_type": "markdown",
      "metadata": {
        "id": "7aE7KFuA8Tit"
      },
      "source": [
        "Example 10:Write a function is_divisible that takes two parameters, num1 and num2, and returns True if num1 is divisible by num2 and False otherwise."
      ]
    },
    {
      "cell_type": "code",
      "execution_count": null,
      "metadata": {},
      "outputs": [],
      "source": []
    },
    {
      "cell_type": "markdown",
      "metadata": {
        "id": "LCaUpQ_L8Tiw"
      },
      "source": [
        "# Strings and lists"
      ]
    },
    {
      "cell_type": "markdown",
      "metadata": {
        "id": "0iFsn7ka8Ti3"
      },
      "source": [
        "Exercise 1: Write a Python program to take a string input from the user and print it in lower case."
      ]
    },
    {
      "cell_type": "code",
      "execution_count": null,
      "metadata": {
        "id": "SzCKpj6S8Ti4"
      },
      "outputs": [],
      "source": []
    },
    {
      "cell_type": "markdown",
      "metadata": {
        "id": "H83yTqQQ8Ti6"
      },
      "source": [
        "Exercise 2: Write a Python function called remove_whitespace that takes a string and returns the same string with all white spaces removed."
      ]
    },
    {
      "cell_type": "code",
      "execution_count": null,
      "metadata": {
        "id": "hfkQaAQL8Ti7"
      },
      "outputs": [],
      "source": []
    },
    {
      "cell_type": "markdown",
      "metadata": {
        "id": "QeqxZaxY8Ti8"
      },
      "source": [
        "Exercise 3: Write a Python function named count_occurrences that counts the number of times a specific character occurs in a string. The function should take a string and a character as input."
      ]
    },
    {
      "cell_type": "code",
      "execution_count": null,
      "metadata": {
        "id": "b_Y3u1cr8Ti8"
      },
      "outputs": [],
      "source": []
    },
    {
      "cell_type": "markdown",
      "metadata": {
        "id": "jAT5G-tZ8Ti-"
      },
      "source": [
        "Exercise 4: Write a Python function called add_to_list that takes a list and an element as parameters. The function should add the element to the end of the list and then return the modified list."
      ]
    },
    {
      "cell_type": "code",
      "execution_count": null,
      "metadata": {
        "id": "MrOS3sce8Ti_"
      },
      "outputs": [],
      "source": []
    },
    {
      "cell_type": "markdown",
      "metadata": {
        "id": "WoYpnIRq8TjA"
      },
      "source": [
        "Exercise 5: Write a Python program that returns the smallest number from a list of integers."
      ]
    },
    {
      "cell_type": "code",
      "execution_count": null,
      "metadata": {
        "id": "pLujvrb68TjB"
      },
      "outputs": [],
      "source": []
    },
    {
      "cell_type": "markdown",
      "metadata": {
        "id": "P8uBWgYD8TjP"
      },
      "source": [
        "Exercise 6: Write a Python function called list_reverse that takes a list as parameter and returns the list in reverse order."
      ]
    },
    {
      "cell_type": "code",
      "execution_count": null,
      "metadata": {
        "id": "OFSj0J3O8TjQ"
      },
      "outputs": [],
      "source": []
    },
    {
      "cell_type": "markdown",
      "metadata": {
        "id": "M5p_VMEP8TjZ"
      },
      "source": [
        "Exercise 7: Write a Python program that takes a string and calculates the number of digits and letters present in the string. Use Python's built-in isdigit and isalpha methods."
      ]
    },
    {
      "cell_type": "code",
      "execution_count": null,
      "metadata": {
        "id": "iRR5Tguj8Tjt"
      },
      "outputs": [],
      "source": []
    },
    {
      "cell_type": "markdown",
      "metadata": {
        "id": "1MMAWO_T8Tjz"
      },
      "source": [
        "Exercise 8: Write a function called multiply_list that takes a list of numbers as an argument and returns the product of all the numbers in the list."
      ]
    },
    {
      "cell_type": "code",
      "execution_count": null,
      "metadata": {
        "id": "o2KDMs1S8TkB"
      },
      "outputs": [],
      "source": []
    },
    {
      "cell_type": "markdown",
      "metadata": {
        "id": "bxonnxRM8TkO"
      },
      "source": [
        "Exercise 9: Define a function find_longest_word that takes a list of words and returns the longest one. If there are multiple words of the same maximum length, return the first one encountered."
      ]
    },
    {
      "cell_type": "code",
      "execution_count": null,
      "metadata": {
        "id": "eUEzTdci8TkW"
      },
      "outputs": [],
      "source": []
    },
    {
      "cell_type": "markdown",
      "metadata": {
        "id": "mXDuvZxK8TkX"
      },
      "source": [
        "Exercise 10: Write a function find_unique that takes a list as a parameter and returns a new list with the unique elements of the first list. Do not use Python's built-in set type or the unique function in numpy."
      ]
    },
    {
      "cell_type": "code",
      "execution_count": null,
      "metadata": {
        "id": "PwJxfINK8Tkc"
      },
      "outputs": [],
      "source": []
    },
    {
      "cell_type": "markdown",
      "metadata": {
        "id": "w6a9LbhX8Tkp"
      },
      "source": [
        "Exercise 11: Write a function check_palindrome that checks whether a given word or sentence is a palindrome (it reads the same backwards as forwards). Ignore capitalization, spacing, and punctuation in your check."
      ]
    },
    {
      "cell_type": "code",
      "execution_count": null,
      "metadata": {
        "id": "AcQFIUCq8Tku"
      },
      "outputs": [],
      "source": []
    },
    {
      "cell_type": "markdown",
      "metadata": {
        "id": "jxR3G5Bl8Tk3"
      },
      "source": [
        "Exercise 12: Write a Python program that takes a list of numbers as input and returns a new list containing only the even numbers from the given list."
      ]
    },
    {
      "cell_type": "code",
      "execution_count": null,
      "metadata": {
        "id": "scfW6fXm8Tk7"
      },
      "outputs": [],
      "source": []
    }
  ],
  "metadata": {
    "colab": {
      "provenance": []
    },
    "kernelspec": {
      "display_name": "Python 3",
      "language": "python",
      "name": "python3"
    },
    "language_info": {
      "name": "python",
      "version": "3.10.11"
    },
    "orig_nbformat": 4
  },
  "nbformat": 4,
  "nbformat_minor": 0
}
