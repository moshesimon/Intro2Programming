{
 "cells": [
  {
   "attachments": {},
   "cell_type": "markdown",
   "metadata": {},
   "source": [
    "# Lesson 1.2: Python basics and syntax\n",
    "In this lesson, we will cover the basics of Python, including variables, data types, basic arithmetic operations, comments, and indentation.\n",
    "\n",
    "## To kick things off, you will now run your first ever python program:\n",
    "Just press the triangle on the left-hand-side of the python cell bellow\n"
   ]
  },
  {
   "cell_type": "code",
   "execution_count": 2,
   "metadata": {},
   "outputs": [
    {
     "name": "stdout",
     "output_type": "stream",
     "text": [
      "Hello World!\n"
     ]
    }
   ],
   "source": [
    "print(\"Hello World!\")"
   ]
  },
  {
   "attachments": {},
   "cell_type": "markdown",
   "metadata": {},
   "source": [
    "See that the output is displayed just bellow the python cell.\n",
    "\n",
    "## Comments\n",
    "A comment is just some text that doesn't effect the program. It is helpful when you want to explain some code."
   ]
  },
  {
   "cell_type": "code",
   "execution_count": null,
   "metadata": {},
   "outputs": [],
   "source": [
    "#This is a comment\n",
    "print(\"Hello World!\") #This is also a comment\n",
    "\n",
    "#This is a long comment\n",
    "#and it extends\n",
    "#to multiple lines\n",
    "\n",
    "\"\"\"\n",
    "This is also a long comment\n",
    "and it extends\n",
    "to multiple lines\n",
    "\"\"\"\n"
   ]
  },
  {
   "attachments": {},
   "cell_type": "markdown",
   "metadata": {},
   "source": [
    "## Data Types\n",
    "Python has several basic data types, including integers, floating point numbers, strings, lists, and dictionaries."
   ]
  },
  {
   "cell_type": "code",
   "execution_count": 3,
   "metadata": {},
   "outputs": [
    {
     "name": "stdout",
     "output_type": "stream",
     "text": [
      "<class 'str'>\n",
      "<class 'int'>\n",
      "<class 'float'>\n"
     ]
    }
   ],
   "source": [
    "print(type(\"Hello World!\")) # This is a string (str) - text\n",
    "print(type(10)) # This is an integer (int) - whole number\n",
    "print(type(10.5)) # This is a float - decimal number"
   ]
  },
  {
   "attachments": {},
   "cell_type": "markdown",
   "metadata": {},
   "source": [
    "## Quiz Question \n",
    "What type is this:"
   ]
  },
  {
   "cell_type": "code",
   "execution_count": null,
   "metadata": {},
   "outputs": [],
   "source": [
    "print(type(\"10\"))"
   ]
  },
  {
   "attachments": {},
   "cell_type": "markdown",
   "metadata": {},
   "source": [
    "## Casting \n",
    "Casting is when you convert one data type into another"
   ]
  },
  {
   "cell_type": "code",
   "execution_count": 4,
   "metadata": {},
   "outputs": [
    {
     "name": "stdout",
     "output_type": "stream",
     "text": [
      "<class 'str'>\n",
      "<class 'int'>\n",
      "10.0\n",
      "10\n",
      "10\n"
     ]
    }
   ],
   "source": [
    "print(type(\"10\")) # This is a string (str)\n",
    "\n",
    "print(type(int(\"10\"))) # This is being converted to an integer (int)\n",
    "\n",
    "print(float(\"10\")) # This is being converted to a float\n",
    "\n",
    "print(int(10.5)) # This is being converted to an integer (int)\n",
    "\n",
    "print(str(10)) # This is being converted to a string (str)"
   ]
  },
  {
   "attachments": {},
   "cell_type": "markdown",
   "metadata": {},
   "source": [
    "## Quiz Question \n",
    "What do you think will happen when I run the cell bellow?"
   ]
  },
  {
   "cell_type": "code",
   "execution_count": null,
   "metadata": {},
   "outputs": [],
   "source": [
    "print(int(\"Hello World!\"))"
   ]
  },
  {
   "attachments": {},
   "cell_type": "markdown",
   "metadata": {},
   "source": [
    "## Variables \n",
    "Variables in Python are used to store information in memory. They are created by using the equal sign (`=`), like this: `variable_name = value`. \n",
    "Variables can be reassigned by assigning a different value to it latter on in the program. \n",
    "Variables are none type specific."
   ]
  },
  {
   "cell_type": "code",
   "execution_count": null,
   "metadata": {},
   "outputs": [],
   "source": [
    "# Here's an example of variable assignment:\n",
    "number = 10\n",
    "decimal = 3.14\n",
    "text = \"Hello, world!\"\n",
    "\n",
    "print(number)\n",
    "print(decimal)\n",
    "print(text)\n",
    "\n",
    "# Here's an example of variable reassignment:\n",
    "number = 20\n",
    "decimal = 6.28\n",
    "text = \"Goodbye, world!\"\n",
    "\n",
    "print(number)\n",
    "print(decimal)\n",
    "print(text)"
   ]
  },
  {
   "attachments": {},
   "cell_type": "markdown",
   "metadata": {},
   "source": [
    "### Variable names must follow these rules:\n",
    "- must not begin with a number \n",
    "- must not contain any special characters\n",
    "- must not contain any spaces. To represent a space use underscore (_)."
   ]
  },
  {
   "cell_type": "code",
   "execution_count": null,
   "metadata": {},
   "outputs": [],
   "source": [
    "4iwsjfe = 10 # This is not a valid variable name because it starts with a number\n",
    "\n",
    "my_variable4 = 10 # This is a valid variable name because it starts with a letter\n",
    "\n",
    "myVariable = 10 # This is a valid variable name\n",
    "\n",
    "my variable = 10 # This is not a valid variable name because it contains a space\n",
    "\n",
    "my-variable = 10 # This is not a valid variable name because it contains a dash\n",
    "\n",
    "my_v@riable = 10 # This is not a valid variable name because it contains a special character"
   ]
  },
  {
   "attachments": {},
   "cell_type": "markdown",
   "metadata": {},
   "source": [
    "## Basic Arithmetic Operations\n",
    "Python can perform basic arithmetic operations such as addition (`+`), subtraction (`-`), multiplication (`*`), division (`/`), floor division (`//`), modulo (`%`), and exponentiation (`**`).\n"
   ]
  },
  {
   "cell_type": "code",
   "execution_count": null,
   "metadata": {},
   "outputs": [],
   "source": [
    "# Let's do some arithmetic\n",
    "sum_result = 5 + 3\n",
    "print(\"Sum:\", sum_result)\n",
    "\n",
    "diff_result = 10 - 7\n",
    "print(\"Difference:\", diff_result)\n",
    "\n",
    "mul_result = 4 * 2\n",
    "print(\"Product:\", mul_result)\n",
    "\n",
    "div_result = 20 / 4\n",
    "print(\"Quotient:\", div_result)\n",
    "\n",
    "floor_div_result = 11 // 2\n",
    "print(\"Floor quotient:\", floor_div_result)\n",
    "\n",
    "mod_result = 10 % 3\n",
    "print(\"Remainder:\", mod_result)\n",
    "\n",
    "exp_result = 2 ** 3\n",
    "print(\"Exponent:\", exp_result)\n"
   ]
  },
  {
   "attachments": {},
   "cell_type": "markdown",
   "metadata": {},
   "source": [
    "## Exercise 2:\n",
    "Use different numbers to perform the same operations and print the results."
   ]
  },
  {
   "cell_type": "code",
   "execution_count": null,
   "metadata": {},
   "outputs": [],
   "source": [
    "'''\n",
    "# space for exercise\n",
    "'''"
   ]
  },
  {
   "attachments": {},
   "cell_type": "markdown",
   "metadata": {},
   "source": [
    "# Lesson 1.3: Control Structures\n",
    "In this lesson, we will cover the control structures in Python. Control structures allow you to control the flow of your program's execution based on certain conditions or loops. Specifically, we'll be discussing conditional statements (if, elif, else), loops (for, while), and loop control statements (break, continue).\n",
    "\n",
    "## Conditional Statements: if, elif, else\n",
    "Conditional statements in Python allow the program to execute certain blocks of code depending on whether a condition is true or false. The simplest form is the `if` statement, which executes a block of code if a given condition is true.\n",
    "\n",
    "Indentation in Python is used to denote blocks of code and is crucial for the structure of your programs. Unlike many other languages, Python uses indentation rather than brackets or braces."
   ]
  },
  {
   "cell_type": "code",
   "execution_count": null,
   "metadata": {},
   "outputs": [],
   "source": [
    "x = 10\n",
    "if x > 0:\n",
    "    # indented four spaces or one tab to indicate the scope of the if statement \n",
    "    print(\"x is positive\") # This is only printed if x > 0\n",
    "\n",
    "print(\"This is always printed\") # This is not indented, so it is not part of the if statement"
   ]
  },
  {
   "attachments": {},
   "cell_type": "markdown",
   "metadata": {},
   "source": [
    "You can also have nested if statements"
   ]
  },
  {
   "cell_type": "code",
   "execution_count": null,
   "metadata": {},
   "outputs": [],
   "source": [
    "x = 10\n",
    "y = 20\n",
    "if x > 0:\n",
    "    # indented four spaces or one tab to indicate the scope of the if statement \n",
    "    print(\"x is positive\") # This is only printed if x > 0\n",
    "\n",
    "    if y == 0: # double equals sign is used to check equality\n",
    "        print(\"y is positive\") # This is only printed if x > 0 and y == 0\n",
    "\n",
    "print(\"This is always printed\") # This is not indented, so it is not part of the if statement"
   ]
  },
  {
   "attachments": {},
   "cell_type": "markdown",
   "metadata": {},
   "source": [
    "The `elif` statement (short for \"else if\") allows for additional conditions to be checked if the previous conditions were false. The `else` statement provides a block of code to execute if none of the previous conditions were true.\n"
   ]
  },
  {
   "cell_type": "code",
   "execution_count": null,
   "metadata": {},
   "outputs": [],
   "source": [
    "x = 10\n",
    "if x > 0:\n",
    "    print(\"x is positive\")\n",
    "elif x < 0:\n",
    "    print(\"x is negative\")\n",
    "else:\n",
    "    print(\"x is zero\")"
   ]
  },
  {
   "attachments": {},
   "cell_type": "markdown",
   "metadata": {},
   "source": [
    "## Exercise 1:\n",
    "Write a conditional statement to check if a number is odd or even.\n",
    "(Hint: the % operator finds the remainder. So 2%2 = 0, 3%2 = 1, 4%2 = 0, etc..)"
   ]
  },
  {
   "cell_type": "code",
   "execution_count": null,
   "metadata": {},
   "outputs": [],
   "source": [
    "'''\n",
    "# space for exercise\n",
    "'''\n"
   ]
  },
  {
   "attachments": {},
   "cell_type": "markdown",
   "metadata": {},
   "source": [
    "## Loops: for, while\n",
    "Loops allow for a block of code to be executed multiple times. A `for` loop iterates over a sequence (like a list or a string), executing the block of code once for each item in the sequence.\n"
   ]
  }
 ],
 "metadata": {
  "kernelspec": {
   "display_name": "Python 3",
   "language": "python",
   "name": "python3"
  },
  "language_info": {
   "codemirror_mode": {
    "name": "ipython",
    "version": 3
   },
   "file_extension": ".py",
   "mimetype": "text/x-python",
   "name": "python",
   "nbconvert_exporter": "python",
   "pygments_lexer": "ipython3",
   "version": "3.10.11"
  },
  "orig_nbformat": 4
 },
 "nbformat": 4,
 "nbformat_minor": 2
}
